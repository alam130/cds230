{
 "cells": [
  {
   "cell_type": "markdown",
   "metadata": {},
   "source": [
    "# CDS 230 - Modeling and Simulation 1 - Fall 2019\n",
    "\n",
    "# Example Uncertain Games\n",
    "\n",
    "**Lecturer:** Dr. Hamdi Kavak\n",
    "\n",
    "**Email:** hkavak@gmu.edu\n",
    "\n",
    "**Lecture:** 11/11/2019"
   ]
  },
  {
   "cell_type": "code",
   "execution_count": 1,
   "metadata": {},
   "outputs": [],
   "source": [
    "import numpy as np\n",
    "import matplotlib.pyplot as plt"
   ]
  },
  {
   "cell_type": "markdown",
   "metadata": {},
   "source": [
    "## 1. Yahtzee example"
   ]
  },
  {
   "cell_type": "code",
   "execution_count": 2,
   "metadata": {},
   "outputs": [
    {
     "name": "stdout",
     "output_type": "stream",
     "text": [
      "[2 2 3 6 2]\n"
     ]
    }
   ],
   "source": [
    "# five random integers to represent 5 dice\n",
    "dice = np.random.randint(1,7,size=5)\n",
    "print(dice)"
   ]
  },
  {
   "cell_type": "code",
   "execution_count": 3,
   "metadata": {},
   "outputs": [],
   "source": [
    "# we will keep track of how many occurances we see for each possible values in dice (1,2,3,4,5,6)\n",
    "# initially, all are set to zero\n",
    "counts = np.zeros(6)"
   ]
  },
  {
   "cell_type": "code",
   "execution_count": 4,
   "metadata": {},
   "outputs": [
    {
     "data": {
      "text/plain": [
       "array([0., 0., 0., 0., 0., 0.])"
      ]
     },
     "execution_count": 4,
     "metadata": {},
     "output_type": "execute_result"
    }
   ],
   "source": [
    "# array element with index 0 represents the count for dice value 1\n",
    "# array element with index 1 represents the count for dice value 2\n",
    "# ...\n",
    "# array element with index 5 represents the count for dice value 6\n",
    "counts"
   ]
  },
  {
   "cell_type": "code",
   "execution_count": 5,
   "metadata": {},
   "outputs": [],
   "source": [
    "# we loop through five dice and increase the corresponding count values.\n",
    "# recall that counts array indexes start from 0 while dice values start from 1. that's why you see \"die-1\" for the index\n",
    "for die in dice:\n",
    "    counts[die-1] += 1"
   ]
  },
  {
   "cell_type": "code",
   "execution_count": 6,
   "metadata": {},
   "outputs": [
    {
     "data": {
      "text/plain": [
       "array([0., 3., 1., 0., 0., 1.])"
      ]
     },
     "execution_count": 6,
     "metadata": {},
     "output_type": "execute_result"
    }
   ],
   "source": [
    "# the state of the counts after one roll is counted\n",
    "counts"
   ]
  },
  {
   "cell_type": "code",
   "execution_count": 7,
   "metadata": {},
   "outputs": [
    {
     "data": {
      "text/plain": [
       "3.0"
      ]
     },
     "execution_count": 7,
     "metadata": {},
     "output_type": "execute_result"
    }
   ],
   "source": [
    "# this gives the most repeating dice value among 5 dices\n",
    "counts.max()"
   ]
  },
  {
   "cell_type": "code",
   "execution_count": 8,
   "metadata": {},
   "outputs": [
    {
     "data": {
      "text/plain": [
       "2"
      ]
     },
     "execution_count": 8,
     "metadata": {},
     "output_type": "execute_result"
    }
   ],
   "source": [
    "# this gives the value of the most repeating dice value. We added +1 because of the disparity between count index and dice value\n",
    "counts.argmax() + 1"
   ]
  },
  {
   "cell_type": "code",
   "execution_count": 9,
   "metadata": {},
   "outputs": [],
   "source": [
    "# let's keep these two values in a variable\n",
    "number_of_dice_kept = counts.max()\n",
    "value_we_keep = counts.argmax() + 1"
   ]
  },
  {
   "cell_type": "code",
   "execution_count": 10,
   "metadata": {},
   "outputs": [],
   "source": [
    "# roll again"
   ]
  },
  {
   "cell_type": "code",
   "execution_count": 11,
   "metadata": {},
   "outputs": [
    {
     "name": "stdout",
     "output_type": "stream",
     "text": [
      "[3 5]\n"
     ]
    }
   ],
   "source": [
    "if number_of_dice_kept == 1: # this means all value in 5 dice were unique so we will have to roll all dice again\n",
    "    number_of_dice_kept=0 # we assign this to 0 so that we still generate 5 random numbers\n",
    "dice2 = np.random.randint(1,7,size=5-int(number_of_dice_kept))\n",
    "print(dice2)"
   ]
  },
  {
   "cell_type": "code",
   "execution_count": 12,
   "metadata": {},
   "outputs": [],
   "source": [
    "# we have to do same checks again. Let's implement a more compact version"
   ]
  },
  {
   "cell_type": "markdown",
   "metadata": {},
   "source": [
    "## Compact version"
   ]
  },
  {
   "cell_type": "code",
   "execution_count": 13,
   "metadata": {},
   "outputs": [
    {
     "name": "stdout",
     "output_type": "stream",
     "text": [
      "[4 4 5 6 5]\n",
      "[3 6 3]\n",
      "[3 1 1]\n",
      "We got  2 dice with value 4\n"
     ]
    }
   ],
   "source": [
    "# the following two variables will keep track of our Yahtzee state\n",
    "number_of_dice_kept = 0\n",
    "value_we_keep = 0\n",
    "\n",
    "for i in range(3): # we try up to three times.\n",
    "    # roll five dice (in the first roll) and potentially <5 dice roll\n",
    "    dice = np.random.randint(1,7,size=5-number_of_dice_kept)\n",
    "    print(dice)\n",
    "    \n",
    "    # if we selected a value previously to make the Yahtzee combination, \n",
    "    # we just count how many matches between the selected value and new roll\n",
    "    if value_we_keep > 0:\n",
    "        for die in dice:\n",
    "            if die == value_we_keep:\n",
    "                number_of_dice_kept = number_of_dice_kept + 1\n",
    "    else:\n",
    "        # we will keep track of how many occurances we see for each possible values in dice (1,2,3,4,5,6)\n",
    "        # initially, all are set to zero\n",
    "        counts = np.zeros(6)\n",
    "\n",
    "        # we loop through five dice and increase the corresponding count values.\n",
    "        # recall that counts array indexes start from 0 while dice values start from 1. that's why you see \"die-1\" for the index\n",
    "        for die in dice:\n",
    "            counts[die-1] += 1\n",
    "\n",
    "        number_of_dice_kept = int(counts.max())\n",
    "        if number_of_dice_kept == 1: # meaning all dice show a different value, we roll all five again\n",
    "            value_we_keep = 0\n",
    "            number_of_dice_kept = 0\n",
    "        else:\n",
    "            value_we_keep = counts.argmax() + 1\n",
    "\n",
    "print(\"We got\",number_of_dice_kept, \"dice with value\", value_we_keep)    "
   ]
  },
  {
   "cell_type": "code",
   "execution_count": 14,
   "metadata": {},
   "outputs": [
    {
     "name": "stdout",
     "output_type": "stream",
     "text": [
      "2\n",
      "1\n"
     ]
    }
   ],
   "source": [
    "# numpy test\n",
    "test_array = np.array([0, 2, 2, 0, 0, 0])\n",
    "print(test_array.max())\n",
    "print(test_array.argmax())"
   ]
  },
  {
   "cell_type": "markdown",
   "metadata": {},
   "source": [
    "## 2. Card game example"
   ]
  },
  {
   "cell_type": "code",
   "execution_count": null,
   "metadata": {},
   "outputs": [],
   "source": []
  }
 ],
 "metadata": {
  "kernelspec": {
   "display_name": "Python 3",
   "language": "python",
   "name": "python3"
  },
  "language_info": {
   "codemirror_mode": {
    "name": "ipython",
    "version": 3
   },
   "file_extension": ".py",
   "mimetype": "text/x-python",
   "name": "python",
   "nbconvert_exporter": "python",
   "pygments_lexer": "ipython3",
   "version": "3.6.9"
  }
 },
 "nbformat": 4,
 "nbformat_minor": 4
}
