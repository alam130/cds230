{
 "cells": [
  {
   "cell_type": "markdown",
   "metadata": {},
   "source": [
    "# CDS 230 - Modeling and Simulation 1 - Fall 2019\n",
    "# Dealing with Uncertainty\n",
    "\n",
    "**Lecturer:** Dr. Hamdi Kavak\n",
    "\n",
    "**Email:** hkavak@gmu.edu\n",
    "\n",
    "**Lecture:** 11/04/2019"
   ]
  },
  {
   "cell_type": "code",
   "execution_count": 1,
   "metadata": {},
   "outputs": [],
   "source": [
    "import random\n",
    "import numpy as np\n",
    "import matplotlib.pyplot as plt"
   ]
  },
  {
   "cell_type": "markdown",
   "metadata": {},
   "source": [
    "## 1. Random numbers"
   ]
  },
  {
   "cell_type": "markdown",
   "metadata": {},
   "source": [
    "### 1.1. Default random number generation [0,1)"
   ]
  },
  {
   "cell_type": "code",
   "execution_count": 2,
   "metadata": {},
   "outputs": [
    {
     "data": {
      "text/plain": [
       "0.06307777120650893"
      ]
     },
     "execution_count": 2,
     "metadata": {},
     "output_type": "execute_result"
    }
   ],
   "source": [
    "random.random() # built-in python random number generator"
   ]
  },
  {
   "cell_type": "code",
   "execution_count": 3,
   "metadata": {},
   "outputs": [
    {
     "data": {
      "text/plain": [
       "0.3906705873305315"
      ]
     },
     "execution_count": 3,
     "metadata": {},
     "output_type": "execute_result"
    }
   ],
   "source": [
    "np.random.random() # numpy random number generator (preffered)"
   ]
  },
  {
   "cell_type": "code",
   "execution_count": 4,
   "metadata": {},
   "outputs": [
    {
     "data": {
      "text/plain": [
       "array([0.65348309, 0.27415441, 0.01372371, 0.71346053, 0.54695058])"
      ]
     },
     "execution_count": 4,
     "metadata": {},
     "output_type": "execute_result"
    }
   ],
   "source": [
    "np.random.random(5) # 5 values to be generated"
   ]
  },
  {
   "cell_type": "code",
   "execution_count": 5,
   "metadata": {},
   "outputs": [
    {
     "data": {
      "text/plain": [
       "array([[0.61078621, 0.07792854, 0.11373331],\n",
       "       [0.04665458, 0.92737203, 0.3861151 ]])"
      ]
     },
     "execution_count": 5,
     "metadata": {},
     "output_type": "execute_result"
    }
   ],
   "source": [
    "np.random.random((2,3))"
   ]
  },
  {
   "cell_type": "markdown",
   "metadata": {},
   "source": [
    "### 1.2. Random Integer Generation"
   ]
  },
  {
   "cell_type": "code",
   "execution_count": 6,
   "metadata": {},
   "outputs": [
    {
     "data": {
      "text/plain": [
       "3"
      ]
     },
     "execution_count": 6,
     "metadata": {},
     "output_type": "execute_result"
    }
   ],
   "source": [
    "np.random.randint(5) # generates a number between 0 (inc) and 5 (exl)"
   ]
  },
  {
   "cell_type": "code",
   "execution_count": 7,
   "metadata": {},
   "outputs": [
    {
     "data": {
      "text/plain": [
       "14"
      ]
     },
     "execution_count": 7,
     "metadata": {},
     "output_type": "execute_result"
    }
   ],
   "source": [
    "np.random.randint(10,20) # generate a number between 10 and 20"
   ]
  },
  {
   "cell_type": "code",
   "execution_count": 8,
   "metadata": {},
   "outputs": [
    {
     "data": {
      "text/plain": [
       "array([3, 4, 0, 0, 3, 1, 4, 3, 1, 1])"
      ]
     },
     "execution_count": 8,
     "metadata": {},
     "output_type": "execute_result"
    }
   ],
   "source": [
    "np.random.randint(5,size=10)"
   ]
  },
  {
   "cell_type": "code",
   "execution_count": 9,
   "metadata": {},
   "outputs": [
    {
     "data": {
      "text/plain": [
       "array([10, 15, 16, 10, 10, 13, 15, 12, 19, 15])"
      ]
     },
     "execution_count": 9,
     "metadata": {},
     "output_type": "execute_result"
    }
   ],
   "source": [
    "np.random.randint(10,20,size=10)"
   ]
  },
  {
   "cell_type": "code",
   "execution_count": 10,
   "metadata": {},
   "outputs": [
    {
     "data": {
      "text/plain": [
       "array([[4, 4, 0, 2],\n",
       "       [1, 3, 4, 4],\n",
       "       [0, 0, 4, 4]])"
      ]
     },
     "execution_count": 10,
     "metadata": {},
     "output_type": "execute_result"
    }
   ],
   "source": [
    "np.random.randint(0,5,size=(3,4))"
   ]
  },
  {
   "cell_type": "markdown",
   "metadata": {},
   "source": [
    "### 1.3. The concept of equal chances"
   ]
  },
  {
   "cell_type": "code",
   "execution_count": 11,
   "metadata": {},
   "outputs": [
    {
     "data": {
      "text/plain": [
       "0.4921918549158054"
      ]
     },
     "execution_count": 11,
     "metadata": {},
     "output_type": "execute_result"
    }
   ],
   "source": [
    "np.random.uniform(0.,1.) # equal to np.random.random()"
   ]
  },
  {
   "cell_type": "code",
   "execution_count": 12,
   "metadata": {},
   "outputs": [
    {
     "data": {
      "text/plain": [
       "389.21373647640064"
      ]
     },
     "execution_count": 12,
     "metadata": {},
     "output_type": "execute_result"
    }
   ],
   "source": [
    "np.random.uniform(-500.0, 500.0) # a random float between -500 and +500"
   ]
  },
  {
   "cell_type": "code",
   "execution_count": 13,
   "metadata": {},
   "outputs": [
    {
     "data": {
      "text/plain": [
       "array([7.73123491, 7.72278679, 7.84984113, 3.64597633, 3.09166542,\n",
       "       2.1372517 , 4.56584416, 4.55322728, 1.49055408, 7.80140388,\n",
       "       8.32915531, 6.80373627, 2.62093904, 3.28699214, 3.16933746,\n",
       "       9.47962056, 4.59755548, 9.93780824, 8.50222742, 0.67033916,\n",
       "       0.7680997 , 3.89928015, 5.10750796, 0.23213316, 7.22972843,\n",
       "       5.45403522, 0.14627873, 2.31024876, 3.64709778, 4.94125794,\n",
       "       8.9890525 , 4.96857027, 7.82692512, 3.82440752, 6.08652705,\n",
       "       3.15458908, 6.77813816, 2.34337811, 2.47766461, 4.47326407,\n",
       "       7.16964651, 5.03041095, 2.27432346, 2.58464947, 8.31960573,\n",
       "       6.1079084 , 4.06609776, 9.62319325, 5.44977887, 9.72312348,\n",
       "       3.35883305, 1.91267416, 1.78270747, 4.72766223, 4.33097185,\n",
       "       8.65538898, 2.61953746, 4.05091517, 9.78499707, 1.64899334,\n",
       "       2.74467793, 4.71359807, 8.08675696, 0.89846275, 4.35739942,\n",
       "       3.7082654 , 4.31793983, 5.00649306, 8.50431795, 8.02075301,\n",
       "       4.72356718, 2.33185499, 7.92272907, 8.60834256, 7.22456524,\n",
       "       5.34957216, 2.64242313, 7.09629589, 7.40626942, 0.07142494,\n",
       "       5.50727335, 4.06497208, 3.82767186, 0.47236227, 1.8954008 ,\n",
       "       9.9604546 , 4.94970934, 6.63181853, 1.11178444, 9.53742493,\n",
       "       3.4794558 , 8.80279326, 5.51649455, 6.99048747, 6.50757072,\n",
       "       8.6984726 , 8.81226183, 8.86915319, 6.22003787, 3.14325275])"
      ]
     },
     "execution_count": 13,
     "metadata": {},
     "output_type": "execute_result"
    }
   ],
   "source": [
    "np.random.uniform(0.0, 10.0, size=100) # 100 random floats between 0 and 10"
   ]
  },
  {
   "cell_type": "code",
   "execution_count": 14,
   "metadata": {},
   "outputs": [
    {
     "data": {
      "text/plain": [
       "array([[1.97134968, 9.8719721 , 3.25614689],\n",
       "       [3.63576096, 7.91214218, 3.48837422],\n",
       "       [9.66394753, 8.91367194, 3.30569732]])"
      ]
     },
     "execution_count": 14,
     "metadata": {},
     "output_type": "execute_result"
    }
   ],
   "source": [
    "np.random.uniform(0.0, 10.0, size=(3,3)) # 3x3 matrix populated w/ random floats between 0 and 10"
   ]
  },
  {
   "cell_type": "markdown",
   "metadata": {},
   "source": [
    "### 1.4. Unequal chances"
   ]
  },
  {
   "cell_type": "code",
   "execution_count": 15,
   "metadata": {},
   "outputs": [
    {
     "name": "stdout",
     "output_type": "stream",
     "text": [
      "Go straigt\n"
     ]
    }
   ],
   "source": [
    "# easy but unpractical solution\n",
    "chance = np.random.uniform(0.0, 100.0)\n",
    "\n",
    "if chance <= 15:\n",
    "    print(\"Turn left\")\n",
    "elif 15 < chance <= 95:\n",
    "    print(\"Go straigt\")\n",
    "else:\n",
    "    print(\"Turn right\")"
   ]
  },
  {
   "cell_type": "code",
   "execution_count": 16,
   "metadata": {},
   "outputs": [],
   "source": [
    "def direction():\n",
    "    chance = np.random.uniform(0.0, 100.0)\n",
    "\n",
    "    if chance <= 15:\n",
    "        print(\"Turn left\")\n",
    "    elif 15 < chance <= 95:\n",
    "        print(\"Go straigt\")\n",
    "    else:\n",
    "        print(\"Turn right\")"
   ]
  },
  {
   "cell_type": "code",
   "execution_count": 17,
   "metadata": {},
   "outputs": [
    {
     "name": "stdout",
     "output_type": "stream",
     "text": [
      "Turn left\n",
      "Go straigt\n",
      "Go straigt\n",
      "Go straigt\n",
      "Go straigt\n",
      "Go straigt\n",
      "Go straigt\n",
      "Turn left\n",
      "Go straigt\n",
      "Go straigt\n"
     ]
    }
   ],
   "source": [
    "for i in range(10):\n",
    "    direction()"
   ]
  },
  {
   "cell_type": "code",
   "execution_count": 18,
   "metadata": {},
   "outputs": [
    {
     "name": "stdout",
     "output_type": "stream",
     "text": [
      "Go straight\n"
     ]
    }
   ],
   "source": [
    "# more practical solution\n",
    "direction = [1,2,3]\n",
    "probabilities = [0.15, 0.8, 0.05]\n",
    "selected_direction = np.random.choice(direction, p=probabilities)\n",
    "\n",
    "if selected_direction == 1:\n",
    "    print(\"Turn left\")\n",
    "elif selected_direction == 2:\n",
    "    print(\"Go straight\")\n",
    "else:\n",
    "    print(\"Turn right\")\n"
   ]
  },
  {
   "cell_type": "code",
   "execution_count": 19,
   "metadata": {},
   "outputs": [],
   "source": [
    "def direction2():\n",
    "    direction = [1,2,3]\n",
    "    probabilities = [0.15, 0.8, 0.05]\n",
    "    selected_direction = np.random.choice(direction, p=probabilities)\n",
    "\n",
    "    if selected_direction == 1:\n",
    "        print(\"Turn left\")\n",
    "    elif selected_direction == 2:\n",
    "        print(\"Go straight\")\n",
    "    else:\n",
    "        print(\"Turn right\")"
   ]
  },
  {
   "cell_type": "code",
   "execution_count": 20,
   "metadata": {},
   "outputs": [
    {
     "name": "stdout",
     "output_type": "stream",
     "text": [
      "Go straight\n",
      "Go straight\n",
      "Go straight\n",
      "Go straight\n",
      "Go straight\n",
      "Turn left\n",
      "Turn left\n",
      "Turn left\n",
      "Go straight\n",
      "Go straight\n"
     ]
    }
   ],
   "source": [
    "for i in range(10):\n",
    "    direction2()"
   ]
  },
  {
   "cell_type": "markdown",
   "metadata": {},
   "source": [
    "### 1.5. Shuffling and permutation"
   ]
  },
  {
   "cell_type": "code",
   "execution_count": 21,
   "metadata": {},
   "outputs": [],
   "source": [
    "cards_diamonds = [ str(i)+\"_diamonds\" for i in range(1,11)]\n",
    "cards_spades = [str(i)+\"_spades\" for i in range(1,11)]\n",
    "cards_hearts = [ str(i)+\"_hearts\" for i in range(1,11)]\n",
    "cards_clubs = [ str(i)+\"_clubs\" for i in range(1,11)]"
   ]
  },
  {
   "cell_type": "code",
   "execution_count": 22,
   "metadata": {},
   "outputs": [],
   "source": [
    "all_cards = np.concatenate([cards_diamonds, cards_spades, cards_hearts, cards_clubs]) "
   ]
  },
  {
   "cell_type": "code",
   "execution_count": 23,
   "metadata": {},
   "outputs": [
    {
     "name": "stdout",
     "output_type": "stream",
     "text": [
      "['1_diamonds' '2_diamonds' '3_diamonds' '4_diamonds' '5_diamonds'\n",
      " '6_diamonds' '7_diamonds' '8_diamonds' '9_diamonds' '10_diamonds'\n",
      " '1_spades' '2_spades' '3_spades' '4_spades' '5_spades' '6_spades'\n",
      " '7_spades' '8_spades' '9_spades' '10_spades' '1_hearts' '2_hearts'\n",
      " '3_hearts' '4_hearts' '5_hearts' '6_hearts' '7_hearts' '8_hearts'\n",
      " '9_hearts' '10_hearts' '1_clubs' '2_clubs' '3_clubs' '4_clubs' '5_clubs'\n",
      " '6_clubs' '7_clubs' '8_clubs' '9_clubs' '10_clubs']\n"
     ]
    }
   ],
   "source": [
    "print(all_cards)"
   ]
  },
  {
   "cell_type": "code",
   "execution_count": 24,
   "metadata": {},
   "outputs": [],
   "source": [
    "shuffled_cards = np.random.permutation(all_cards) # does not change the original array"
   ]
  },
  {
   "cell_type": "code",
   "execution_count": 25,
   "metadata": {},
   "outputs": [
    {
     "data": {
      "text/plain": [
       "array(['6_hearts', '10_hearts', '4_diamonds', '8_spades', '10_clubs',\n",
       "       '9_clubs', '2_hearts', '2_spades', '7_hearts', '10_diamonds',\n",
       "       '10_spades', '3_spades', '1_clubs', '8_clubs', '5_hearts',\n",
       "       '4_spades', '1_hearts', '7_spades', '9_spades', '1_spades',\n",
       "       '5_clubs', '3_clubs', '3_hearts', '2_clubs', '1_diamonds',\n",
       "       '5_diamonds', '6_spades', '9_diamonds', '6_diamonds', '4_clubs',\n",
       "       '8_diamonds', '2_diamonds', '7_diamonds', '9_hearts', '4_hearts',\n",
       "       '3_diamonds', '5_spades', '7_clubs', '6_clubs', '8_hearts'],\n",
       "      dtype='<U11')"
      ]
     },
     "execution_count": 25,
     "metadata": {},
     "output_type": "execute_result"
    }
   ],
   "source": [
    "shuffled_cards"
   ]
  },
  {
   "cell_type": "code",
   "execution_count": 26,
   "metadata": {},
   "outputs": [],
   "source": [
    "np.random.shuffle(all_cards) # does change the original array"
   ]
  },
  {
   "cell_type": "code",
   "execution_count": 27,
   "metadata": {},
   "outputs": [
    {
     "data": {
      "text/plain": [
       "array(['9_hearts', '5_clubs', '3_diamonds', '1_diamonds', '6_hearts',\n",
       "       '8_hearts', '3_clubs', '1_clubs', '9_diamonds', '5_spades',\n",
       "       '6_clubs', '2_diamonds', '10_diamonds', '2_hearts', '3_hearts',\n",
       "       '1_spades', '10_clubs', '2_spades', '8_clubs', '4_hearts',\n",
       "       '1_hearts', '7_clubs', '10_hearts', '6_diamonds', '10_spades',\n",
       "       '8_spades', '9_clubs', '4_spades', '7_diamonds', '3_spades',\n",
       "       '4_diamonds', '8_diamonds', '6_spades', '5_diamonds', '7_spades',\n",
       "       '9_spades', '2_clubs', '4_clubs', '7_hearts', '5_hearts'],\n",
       "      dtype='<U11')"
      ]
     },
     "execution_count": 27,
     "metadata": {},
     "output_type": "execute_result"
    }
   ],
   "source": [
    "all_cards"
   ]
  },
  {
   "cell_type": "code",
   "execution_count": null,
   "metadata": {},
   "outputs": [],
   "source": []
  }
 ],
 "metadata": {
  "kernelspec": {
   "display_name": "Python 3",
   "language": "python",
   "name": "python3"
  },
  "language_info": {
   "codemirror_mode": {
    "name": "ipython",
    "version": 3
   },
   "file_extension": ".py",
   "mimetype": "text/x-python",
   "name": "python",
   "nbconvert_exporter": "python",
   "pygments_lexer": "ipython3",
   "version": "3.6.9"
  }
 },
 "nbformat": 4,
 "nbformat_minor": 4
}
