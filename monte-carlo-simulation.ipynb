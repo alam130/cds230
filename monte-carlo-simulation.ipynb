{
 "cells": [
  {
   "cell_type": "markdown",
   "metadata": {},
   "source": [
    "# CDS 230 - Modeling and Simulation 1 - Fall 2019\n",
    "\n",
    "# Monte Carlo Simulation\n",
    "\n",
    "**Lecturer:** Dr. Hamdi Kavak\n",
    "\n",
    "**Email:** hkavak@gmu.edu\n",
    "\n",
    "**Lecture:** 11/13/2019"
   ]
  },
  {
   "cell_type": "markdown",
   "metadata": {},
   "source": [
    "### Coin flipping example"
   ]
  },
  {
   "cell_type": "code",
   "execution_count": 1,
   "metadata": {},
   "outputs": [],
   "source": [
    "import numpy as np\n",
    "import matplotlib.pyplot as plt"
   ]
  },
  {
   "cell_type": "code",
   "execution_count": 2,
   "metadata": {},
   "outputs": [
    {
     "data": {
      "text/plain": [
       "0"
      ]
     },
     "execution_count": 2,
     "metadata": {},
     "output_type": "execute_result"
    }
   ],
   "source": [
    "# two possible values\n",
    "# 0: Heads\n",
    "# 1: Tails\n",
    "np.random.choice([0,1])"
   ]
  },
  {
   "cell_type": "code",
   "execution_count": 3,
   "metadata": {},
   "outputs": [
    {
     "data": {
      "text/plain": [
       "array([0, 1, 1, 1, 0])"
      ]
     },
     "execution_count": 3,
     "metadata": {},
     "output_type": "execute_result"
    }
   ],
   "source": [
    "# five coin flips\n",
    "np.random.choice([0,1],size=5)"
   ]
  },
  {
   "cell_type": "code",
   "execution_count": 4,
   "metadata": {},
   "outputs": [],
   "source": [
    "# 10 runs\n",
    "observations = np.random.choice([0,1],size=10)"
   ]
  },
  {
   "cell_type": "code",
   "execution_count": 5,
   "metadata": {},
   "outputs": [
    {
     "data": {
      "text/plain": [
       "array([0, 1, 1, 0, 0, 0, 1, 0, 1, 1])"
      ]
     },
     "execution_count": 5,
     "metadata": {},
     "output_type": "execute_result"
    }
   ],
   "source": [
    "observations"
   ]
  },
  {
   "cell_type": "code",
   "execution_count": 6,
   "metadata": {},
   "outputs": [
    {
     "name": "stdout",
     "output_type": "stream",
     "text": [
      "50.0\n",
      "50.0\n"
     ]
    }
   ],
   "source": [
    "odds_tails = 100 * observations.sum() / len(observations)  # number of times we observed 1's / total tosses\n",
    "odds_heads = 100 - odds_tails\n",
    "print(odds_tails)\n",
    "print(odds_heads)"
   ]
  },
  {
   "cell_type": "code",
   "execution_count": 7,
   "metadata": {},
   "outputs": [
    {
     "name": "stdout",
     "output_type": "stream",
     "text": [
      "After  1  runs - odds of seeing heads is  0.0\n",
      "After  10  runs - odds of seeing heads is  70.0\n",
      "After  100  runs - odds of seeing heads is  55.0\n",
      "After  1000  runs - odds of seeing heads is  52.1\n",
      "After  10000  runs - odds of seeing heads is  49.34\n"
     ]
    }
   ],
   "source": [
    "runs = [1, 10, 100, 1000, 10000]\n",
    "for run in runs:\n",
    "    observations = np.random.choice([0,1],size=run)\n",
    "    odds_tails = 100 * observations.sum() / len(observations)  # number of times we observed 1's / total tosses\n",
    "    odds_heads = 100 - odds_tails\n",
    "    print(\"After \",run, \" runs - odds of seeing heads is \", odds_heads)"
   ]
  },
  {
   "cell_type": "markdown",
   "metadata": {},
   "source": [
    "### Coin flipping example with sequential combinations"
   ]
  },
  {
   "cell_type": "code",
   "execution_count": 8,
   "metadata": {},
   "outputs": [
    {
     "name": "stdout",
     "output_type": "stream",
     "text": [
      "[1 0 1]\n"
     ]
    }
   ],
   "source": [
    "one_sequence = np.random.choice([0,1],size=3)\n",
    "print(one_sequence)"
   ]
  },
  {
   "cell_type": "markdown",
   "metadata": {},
   "source": [
    "### Slow running code"
   ]
  },
  {
   "cell_type": "code",
   "execution_count": 9,
   "metadata": {},
   "outputs": [
    {
     "name": "stdout",
     "output_type": "stream",
     "text": [
      "Number of runs: 10  - P(Heads,Heads,Heads) 0.3\n"
     ]
    }
   ],
   "source": [
    "counter = 0\n",
    "num_of_runs = 10\n",
    "for i in range(num_of_runs):\n",
    "    one_sequence = np.random.choice([0,1],size=3)\n",
    "    if one_sequence.sum() == 0:\n",
    "        counter = counter + 1\n",
    "p=counter/num_of_runs\n",
    "print(\"Number of runs:\", num_of_runs, \" - P(Heads,Heads,Heads)\", p)\n",
    "    "
   ]
  },
  {
   "cell_type": "code",
   "execution_count": 10,
   "metadata": {},
   "outputs": [
    {
     "name": "stdout",
     "output_type": "stream",
     "text": [
      "Number of runs: 1000000  - P(Heads,Heads,Heads) 0.124833\n"
     ]
    }
   ],
   "source": [
    "# copy/pasted from above - slow version\n",
    "counter = 0\n",
    "num_of_runs = 1000000\n",
    "for i in range(num_of_runs):\n",
    "    one_sequence = np.random.choice([0,1],size=3)\n",
    "    if one_sequence.sum() == 0:\n",
    "        counter = counter + 1\n",
    "p=counter/num_of_runs\n",
    "print(\"Number of runs:\", num_of_runs, \" - P(Heads,Heads,Heads)\", p)"
   ]
  },
  {
   "cell_type": "code",
   "execution_count": 11,
   "metadata": {},
   "outputs": [],
   "source": [
    "all_runs = np.random.randint(0,2,size=(10,3))"
   ]
  },
  {
   "cell_type": "code",
   "execution_count": 12,
   "metadata": {},
   "outputs": [
    {
     "name": "stdout",
     "output_type": "stream",
     "text": [
      "[[0 0 0]\n",
      " [0 1 0]\n",
      " [0 0 1]\n",
      " [1 0 1]\n",
      " [0 0 1]\n",
      " [1 0 1]\n",
      " [0 0 0]\n",
      " [0 0 1]\n",
      " [1 1 1]\n",
      " [1 1 0]]\n"
     ]
    }
   ],
   "source": [
    "print(all_runs)"
   ]
  },
  {
   "cell_type": "code",
   "execution_count": 13,
   "metadata": {},
   "outputs": [],
   "source": [
    "counts = all_runs.sum(1)"
   ]
  },
  {
   "cell_type": "code",
   "execution_count": 14,
   "metadata": {},
   "outputs": [],
   "source": [
    "zero_counts = counts==0"
   ]
  },
  {
   "cell_type": "code",
   "execution_count": 15,
   "metadata": {},
   "outputs": [
    {
     "data": {
      "text/plain": [
       "2"
      ]
     },
     "execution_count": 15,
     "metadata": {},
     "output_type": "execute_result"
    }
   ],
   "source": [
    "zero_counts.sum()"
   ]
  },
  {
   "cell_type": "code",
   "execution_count": 16,
   "metadata": {},
   "outputs": [
    {
     "name": "stdout",
     "output_type": "stream",
     "text": [
      "0.2\n"
     ]
    }
   ],
   "source": [
    "p = zero_counts.sum() / 10\n",
    "print(p)"
   ]
  },
  {
   "cell_type": "markdown",
   "metadata": {},
   "source": [
    "### Faster running code"
   ]
  },
  {
   "cell_type": "code",
   "execution_count": 17,
   "metadata": {},
   "outputs": [
    {
     "name": "stdout",
     "output_type": "stream",
     "text": [
      "Number of runs: 100000000  - P(Heads,Heads,Heads) 0.12501817\n"
     ]
    }
   ],
   "source": [
    "# faster version\n",
    "num_of_runs = 100000000\n",
    "\n",
    "entire_runs = np.random.choice([0,1],size=(num_of_runs,3))\n",
    "entire_runs_count = entire_runs.sum(1)\n",
    "count_of_HHH = (entire_runs_count == 0).sum()\n",
    "p=count_of_HHH/num_of_runs\n",
    "print(\"Number of runs:\", num_of_runs, \" - P(Heads,Heads,Heads)\", p)\n",
    "    "
   ]
  },
  {
   "cell_type": "markdown",
   "metadata": {},
   "source": [
    "## Pi example"
   ]
  },
  {
   "cell_type": "code",
   "execution_count": 18,
   "metadata": {},
   "outputs": [
    {
     "name": "stdout",
     "output_type": "stream",
     "text": [
      "0.681731184513219 0.02858278515911561\n"
     ]
    }
   ],
   "source": [
    "r = 1\n",
    "# first location randomly set\n",
    "x = np.random.uniform(-r,r)\n",
    "y = np.random.uniform(-r,r)\n",
    "print(x,y)"
   ]
  },
  {
   "cell_type": "code",
   "execution_count": 19,
   "metadata": {},
   "outputs": [],
   "source": [
    "import math\n",
    "# if the distance to the center is lower than radius, it means the dart is within the circle\n",
    "length = math.sqrt(x ** 2 + y ** 2)"
   ]
  },
  {
   "cell_type": "code",
   "execution_count": 20,
   "metadata": {},
   "outputs": [
    {
     "name": "stdout",
     "output_type": "stream",
     "text": [
      "0.6823301133214398\n"
     ]
    }
   ],
   "source": [
    "print(length)"
   ]
  },
  {
   "cell_type": "code",
   "execution_count": 21,
   "metadata": {},
   "outputs": [
    {
     "name": "stdout",
     "output_type": "stream",
     "text": [
      "Estimated pi value for  10  runs:  3.2\n",
      "Estimated pi value for  100  runs:  3.28\n",
      "Estimated pi value for  1000  runs:  3.168\n",
      "Estimated pi value for  10000  runs:  3.1528\n",
      "Estimated pi value for  100000  runs:  3.1338\n"
     ]
    }
   ],
   "source": [
    "# many runs....\n",
    "runs = [10, 100, 1000, 10000, 100000]\n",
    "\n",
    "for run in runs:\n",
    "    count = 0\n",
    "    \n",
    "    for i in range(run):\n",
    "        x = np.random.uniform(-r,r)\n",
    "        y = np.random.uniform(-r,r)\n",
    "        length = math.sqrt(x ** 2 + y ** 2)\n",
    "        if length < r:\n",
    "            count = count + 1\n",
    "    \n",
    "    p =  count / run\n",
    "    # divided it by 4 to estimate the pi number\n",
    "    pi =  p * 4\n",
    "    #print(\"Ratio of darts inside circle:\", p)\n",
    "    print(\"Estimated pi value for \",run, \" runs: \", pi)"
   ]
  },
  {
   "cell_type": "code",
   "execution_count": null,
   "metadata": {},
   "outputs": [],
   "source": []
  }
 ],
 "metadata": {
  "kernelspec": {
   "display_name": "Python 3",
   "language": "python",
   "name": "python3"
  },
  "language_info": {
   "codemirror_mode": {
    "name": "ipython",
    "version": 3
   },
   "file_extension": ".py",
   "mimetype": "text/x-python",
   "name": "python",
   "nbconvert_exporter": "python",
   "pygments_lexer": "ipython3",
   "version": "3.6.9"
  }
 },
 "nbformat": 4,
 "nbformat_minor": 4
}
