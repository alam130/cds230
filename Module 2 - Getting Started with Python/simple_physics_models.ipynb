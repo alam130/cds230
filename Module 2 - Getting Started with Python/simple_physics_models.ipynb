{
 "cells": [
  {
   "cell_type": "markdown",
   "metadata": {},
   "source": [
    "# CDS 230 - Modeling and Simulation 1\n",
    "# Simple Physics Models\n",
    "\n",
    "**Lecturer:** Dr. Hamdi Kavak\n",
    "\n",
    "**Email:** hkavak@gmu.edu\n",
    "\n",
    "## 1. Linear Motion Example"
   ]
  },
  {
   "cell_type": "code",
   "execution_count": 1,
   "metadata": {},
   "outputs": [],
   "source": [
    "x0 = 0\n",
    "x_end = 10\n",
    "vx = 1.3\n",
    "t = (x_end-x0)/vx"
   ]
  },
  {
   "cell_type": "code",
   "execution_count": 2,
   "metadata": {},
   "outputs": [
    {
     "name": "stdout",
     "output_type": "stream",
     "text": [
      "Time it takes to move from x1 to x2 is  7.692307692307692 seconds\n"
     ]
    }
   ],
   "source": [
    "print(\"Time it takes to move from x1 to x2 is \", t, \"seconds\") "
   ]
  },
  {
   "cell_type": "markdown",
   "metadata": {},
   "source": [
    "## 2. Free Fall Example"
   ]
  },
  {
   "cell_type": "markdown",
   "metadata": {},
   "source": [
    "predicting position"
   ]
  },
  {
   "cell_type": "code",
   "execution_count": 18,
   "metadata": {},
   "outputs": [],
   "source": [
    "y1=50 # initial position\n",
    "vy=0 # initial velocity\n",
    "t=3 # time\n",
    "g=9.8 # gravity\n",
    "\n",
    "new_position = y1+vy*t-0.5*g*t**2"
   ]
  },
  {
   "cell_type": "code",
   "execution_count": 19,
   "metadata": {},
   "outputs": [
    {
     "name": "stdout",
     "output_type": "stream",
     "text": [
      "The new position after free fall is  5.899999999999999\n"
     ]
    }
   ],
   "source": [
    "print(\"The new position after free fall is \", new_position) "
   ]
  },
  {
   "cell_type": "markdown",
   "metadata": {},
   "source": [
    "Predicting time"
   ]
  },
  {
   "cell_type": "code",
   "execution_count": 17,
   "metadata": {},
   "outputs": [],
   "source": [
    "y1 = 50\n",
    "y2 = 0\n",
    "vy = 0\n",
    "g = 9.8\n",
    "q = vy**2 + 2*g*(y1-y2)\n",
    "t1 = (-vy + q**0.5)/g \n",
    "t2 = (-vy - q**0.5)/g"
   ]
  },
  {
   "cell_type": "code",
   "execution_count": 12,
   "metadata": {},
   "outputs": [
    {
     "name": "stdout",
     "output_type": "stream",
     "text": [
      "3.1943828249996993 -3.1943828249996993\n"
     ]
    }
   ],
   "source": [
    "print (t1, t2)"
   ]
  }
 ],
 "metadata": {
  "kernelspec": {
   "display_name": "Python 3",
   "language": "python",
   "name": "python3"
  },
  "language_info": {
   "codemirror_mode": {
    "name": "ipython",
    "version": 3
   },
   "file_extension": ".py",
   "mimetype": "text/x-python",
   "name": "python",
   "nbconvert_exporter": "python",
   "pygments_lexer": "ipython3",
   "version": "3.7.6"
  }
 },
 "nbformat": 4,
 "nbformat_minor": 4
}
