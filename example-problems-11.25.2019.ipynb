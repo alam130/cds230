{
 "cells": [
  {
   "cell_type": "markdown",
   "metadata": {},
   "source": [
    "# CDS 230 - Modeling and Simulation 1 - Fall 2019\n",
    "# Example problems\n",
    "\n",
    "**Lecturer:** Dr. Hamdi Kavak\n",
    "\n",
    "**Email:** hkavak@gmu.edu\n",
    "\n",
    "**Lecture:** 11/25/2019"
   ]
  },
  {
   "cell_type": "code",
   "execution_count": 5,
   "metadata": {},
   "outputs": [],
   "source": [
    "import numpy as np\n",
    "import matplotlib.pyplot as plt"
   ]
  },
  {
   "cell_type": "markdown",
   "metadata": {},
   "source": [
    "## Radioactive decay problem"
   ]
  },
  {
   "cell_type": "code",
   "execution_count": 3,
   "metadata": {},
   "outputs": [],
   "source": [
    "# import ODE solver\n",
    "from scipy.integrate import odeint"
   ]
  },
  {
   "cell_type": "code",
   "execution_count": 6,
   "metadata": {},
   "outputs": [],
   "source": [
    "# Represent the time\n",
    "t = np.linspace(0,30,1000)"
   ]
  },
  {
   "cell_type": "code",
   "execution_count": 7,
   "metadata": {},
   "outputs": [],
   "source": [
    "# set the initial condition and constants\n",
    "N0 = 100 # gram\n",
    "lamda = 0.0866\n",
    "# or you can use N0,lamda=(100,0.0866)"
   ]
  },
  {
   "cell_type": "code",
   "execution_count": 8,
   "metadata": {},
   "outputs": [],
   "source": [
    "# create the function\n",
    "def dn_dt(N,t,lamda):\n",
    "    return -lamda*N"
   ]
  },
  {
   "cell_type": "code",
   "execution_count": 9,
   "metadata": {},
   "outputs": [],
   "source": [
    "# call the solver\n",
    "res = odeint(dn_dt, N0, t, args=(lamda,))"
   ]
  },
  {
   "cell_type": "code",
   "execution_count": 14,
   "metadata": {},
   "outputs": [
    {
     "data": {
      "image/png": "[encoded data removed]",
      "text/plain": [
       "<Figure size 432x288 with 1 Axes>"
      ]
     },
     "metadata": {
      "needs_background": "light"
     },
     "output_type": "display_data"
    }
   ],
   "source": [
    "# plot the result\n",
    "plt.plot(t,res[:,0], color=\"red\", label=\"Numerical solution\")\n",
    "plt.show()"
   ]
  },
  {
   "cell_type": "code",
   "execution_count": 17,
   "metadata": {},
   "outputs": [],
   "source": [
    "# compare with the closed form solution\n",
    "closed_form_solution = N0*np.exp(-lamda*t)"
   ]
  },
  {
   "cell_type": "code",
   "execution_count": 20,
   "metadata": {},
   "outputs": [
    {
     "data": {
      "image/png": "[encoded data removed]",
      "text/plain": [
       "<Figure size 432x288 with 1 Axes>"
      ]
     },
     "metadata": {
      "needs_background": "light"
     },
     "output_type": "display_data"
    }
   ],
   "source": [
    "plt.plot(t,res[:,0], color=\"red\", label=\"Numerical solution\")\n",
    "plt.scatter(t,closed_form_solution, color=\"blue\", label=\"Closed form solution\")\n",
    "plt.legend()\n",
    "plt.show()"
   ]
  },
  {
   "cell_type": "markdown",
   "metadata": {},
   "source": [
    "## Random numbers - Slide #4"
   ]
  },
  {
   "cell_type": "code",
   "execution_count": 21,
   "metadata": {},
   "outputs": [
    {
     "name": "stdout",
     "output_type": "stream",
     "text": [
      "3\n"
     ]
    }
   ],
   "source": [
    "# roll a fair die - version 1\n",
    "die = np.random.randint(1,7)\n",
    "print(die)"
   ]
  },
  {
   "cell_type": "code",
   "execution_count": 22,
   "metadata": {},
   "outputs": [
    {
     "name": "stdout",
     "output_type": "stream",
     "text": [
      "1\n"
     ]
    }
   ],
   "source": [
    "# roll a fair die - version 2\n",
    "die = np.random.choice([1,2,3,4,5,6])\n",
    "print(die)"
   ]
  },
  {
   "cell_type": "code",
   "execution_count": 24,
   "metadata": {},
   "outputs": [
    {
     "name": "stdout",
     "output_type": "stream",
     "text": [
      "6\n"
     ]
    }
   ],
   "source": [
    "# roll a fair die - version 3\n",
    "die = np.random.choice(np.arange(1,7))\n",
    "print(die)"
   ]
  },
  {
   "cell_type": "code",
   "execution_count": 26,
   "metadata": {},
   "outputs": [
    {
     "name": "stdout",
     "output_type": "stream",
     "text": [
      "[4 5 2]\n"
     ]
    }
   ],
   "source": [
    "# roll three fair dice\n",
    "dice =  np.random.randint(1,7,size=3)\n",
    "print(dice)"
   ]
  },
  {
   "cell_type": "code",
   "execution_count": 27,
   "metadata": {},
   "outputs": [
    {
     "name": "stdout",
     "output_type": "stream",
     "text": [
      "6\n"
     ]
    }
   ],
   "source": [
    "# unfair die\n",
    "# 1=10%, 2=10%, 3=20%, 4=10%, 5=10%, 6=40%\n",
    "die = np.random.choice([1,2,3,4,5,6],p=[0.1, 0.1, 0.2, 0.1, 0.1, 0.4])\n",
    "print(die)"
   ]
  },
  {
   "cell_type": "code",
   "execution_count": 28,
   "metadata": {},
   "outputs": [
    {
     "ename": "ValueError",
     "evalue": "probabilities do not sum to 1",
     "output_type": "error",
     "traceback": [
      "\u001b[0;31m---------------------------------------------------------------------------\u001b[0m",
      "\u001b[0;31mValueError\u001b[0m                                Traceback (most recent call last)",
      "\u001b[0;32m<ipython-input-28-686a014fdc66>\u001b[0m in \u001b[0;36m<module>\u001b[0;34m\u001b[0m\n\u001b[0;32m----> 1\u001b[0;31m \u001b[0mdie\u001b[0m \u001b[0;34m=\u001b[0m \u001b[0mnp\u001b[0m\u001b[0;34m.\u001b[0m\u001b[0mrandom\u001b[0m\u001b[0;34m.\u001b[0m\u001b[0mchoice\u001b[0m\u001b[0;34m(\u001b[0m\u001b[0;34m[\u001b[0m\u001b[0;36m1\u001b[0m\u001b[0;34m,\u001b[0m\u001b[0;36m2\u001b[0m\u001b[0;34m,\u001b[0m\u001b[0;36m3\u001b[0m\u001b[0;34m,\u001b[0m\u001b[0;36m4\u001b[0m\u001b[0;34m,\u001b[0m\u001b[0;36m5\u001b[0m\u001b[0;34m,\u001b[0m\u001b[0;36m6\u001b[0m\u001b[0;34m]\u001b[0m\u001b[0;34m,\u001b[0m\u001b[0mp\u001b[0m\u001b[0;34m=\u001b[0m\u001b[0;34m[\u001b[0m\u001b[0;36m0.1\u001b[0m\u001b[0;34m,\u001b[0m \u001b[0;36m0.1\u001b[0m\u001b[0;34m,\u001b[0m \u001b[0;36m0.2\u001b[0m\u001b[0;34m,\u001b[0m \u001b[0;36m0.1\u001b[0m\u001b[0;34m,\u001b[0m \u001b[0;36m0.1\u001b[0m\u001b[0;34m,\u001b[0m \u001b[0;36m0.3\u001b[0m\u001b[0;34m]\u001b[0m\u001b[0;34m)\u001b[0m\u001b[0;34m\u001b[0m\u001b[0;34m\u001b[0m\u001b[0m\n\u001b[0m",
      "\u001b[0;32mmtrand.pyx\u001b[0m in \u001b[0;36mnumpy.random.mtrand.RandomState.choice\u001b[0;34m()\u001b[0m\n",
      "\u001b[0;31mValueError\u001b[0m: probabilities do not sum to 1"
     ]
    }
   ],
   "source": [
    "# if you do not provide probabilities sum to 1\n",
    "die = np.random.choice([1,2,3,4,5,6],p=[0.1, 0.1, 0.2, 0.1, 0.1, 0.3])"
   ]
  },
  {
   "cell_type": "code",
   "execution_count": 30,
   "metadata": {},
   "outputs": [
    {
     "name": "stdout",
     "output_type": "stream",
     "text": [
      "[3 1 1]\n"
     ]
    }
   ],
   "source": [
    "# Roll three fixed (unfair) dice\n",
    "# 1=10%, 2=10%, 3=50%, 4=10%, 5=20%, 6=0%\n",
    "die = np.random.choice([1,2,3,4,5,6],p=[0.1,0.1,0.5,0.1,0.2,0.0],size=3)\n",
    "print(die)"
   ]
  },
  {
   "cell_type": "code",
   "execution_count": 31,
   "metadata": {},
   "outputs": [],
   "source": [
    "# Roll two fair and two fixed (unfair) dice.\n",
    "# 1=20%, 2=20%, 3=17%, 4=15%, 5=14%, 6=14%\n",
    "fair_dice = np.random.choice(np.arange(1,7),size=2)\n",
    "unfair_dice = np.random.choice([1,2,3,4,5,6],p=[0.2,0.2,0.17,0.15,0.14,0.14],size=2)"
   ]
  },
  {
   "cell_type": "code",
   "execution_count": 32,
   "metadata": {},
   "outputs": [
    {
     "data": {
      "text/plain": [
       "array([4, 1, 2, 3])"
      ]
     },
     "execution_count": 32,
     "metadata": {},
     "output_type": "execute_result"
    }
   ],
   "source": [
    "np.concatenate([fair_dice,unfair_dice])"
   ]
  },
  {
   "cell_type": "code",
   "execution_count": 33,
   "metadata": {},
   "outputs": [],
   "source": [
    "unfair_dice_values_100m = np.random.choice([1,2,3,4,5,6],p=[0.2,0.2,0.17,0.15,0.14,0.14],size=100000000)"
   ]
  },
  {
   "cell_type": "code",
   "execution_count": 34,
   "metadata": {},
   "outputs": [
    {
     "data": {
      "image/png": "[encoded data removed]",
      "text/plain": [
       "<Figure size 432x288 with 1 Axes>"
      ]
     },
     "metadata": {
      "needs_background": "light"
     },
     "output_type": "display_data"
    }
   ],
   "source": [
    "# spotting an unfair die\n",
    "plt.hist(unfair_dice_values_100m,bins=6)\n",
    "plt.show()"
   ]
  },
  {
   "cell_type": "markdown",
   "metadata": {},
   "source": [
    "## Fruit example"
   ]
  },
  {
   "cell_type": "code",
   "execution_count": 36,
   "metadata": {},
   "outputs": [
    {
     "name": "stdout",
     "output_type": "stream",
     "text": [
      "['Grapefruit', 'Pineapple', 'Avocado', 'Blueberries', 'Apples', 'Pomegranate', 'Mango', 'Strawberries', 'Cranberries', 'Lemons', 'Watermelon', 'Olives', 'Blackberries', 'Oranges', 'Bananas']\n"
     ]
    }
   ],
   "source": [
    "fruits = [\"Grapefruit\",\"Pineapple\",\"Avocado\",\"Blueberries\",\"Apples\",\"Pomegranate\",\"Mango\",\"Strawberries\",\"Cranberries\",\"Lemons\",\"Watermelon\",\"Olives\",\"Blackberries\",\"Oranges\",\"Bananas\"]\n",
    "print(fruits)"
   ]
  },
  {
   "cell_type": "code",
   "execution_count": 41,
   "metadata": {},
   "outputs": [],
   "source": [
    "# version 1\n",
    "def fruit_suggestion():\n",
    "    fruits = [\"Grapefruit\",\"Pineapple\",\"Avocado\",\"Blueberries\",\"Apples\",\"Pomegranate\",\"Mango\",\"Strawberries\",\"Cranberries\",\"Lemons\",\"Watermelon\",\"Olives\",\"Blackberries\",\"Oranges\",\"Bananas\"]\n",
    "    selected_fruits = np.random.choice(fruits,size=2,replace=False)\n",
    "    return selected_fruits"
   ]
  },
  {
   "cell_type": "code",
   "execution_count": 42,
   "metadata": {},
   "outputs": [
    {
     "data": {
      "text/plain": [
       "array(['Apples', 'Lemons'], dtype='<U12')"
      ]
     },
     "execution_count": 42,
     "metadata": {},
     "output_type": "execute_result"
    }
   ],
   "source": [
    "fruit_suggestion()"
   ]
  },
  {
   "cell_type": "code",
   "execution_count": 43,
   "metadata": {},
   "outputs": [],
   "source": [
    "# version 2\n",
    "def fruit_suggestion_v2():\n",
    "    fruits = [\"Grapefruit\",\"Pineapple\",\"Avocado\",\"Blueberries\",\"Apples\",\"Pomegranate\",\"Mango\",\"Strawberries\",\"Cranberries\",\"Lemons\",\"Watermelon\",\"Olives\",\"Blackberries\",\"Oranges\",\"Bananas\"]\n",
    "    # shuffle does not return but modifies the orders of the original list\n",
    "    np.random.shuffle(fruits)\n",
    "    return fruits[:2]"
   ]
  },
  {
   "cell_type": "code",
   "execution_count": 44,
   "metadata": {},
   "outputs": [
    {
     "data": {
      "text/plain": [
       "['Pineapple', 'Bananas']"
      ]
     },
     "execution_count": 44,
     "metadata": {},
     "output_type": "execute_result"
    }
   ],
   "source": [
    "fruit_suggestion_v2()"
   ]
  },
  {
   "cell_type": "code",
   "execution_count": 45,
   "metadata": {},
   "outputs": [],
   "source": [
    "# version 3\n",
    "def fruit_suggestion_v3():\n",
    "    fruits = [\"Grapefruit\",\"Pineapple\",\"Avocado\",\"Blueberries\",\"Apples\",\"Pomegranate\",\"Mango\",\"Strawberries\",\"Cranberries\",\"Lemons\",\"Watermelon\",\"Olives\",\"Blackberries\",\"Oranges\",\"Bananas\"]\n",
    "    # permutation returns a shuffled list but it does not modify the original list\n",
    "    shuffled_fruit_list = np.random.permutation(fruits)\n",
    "    return shuffled_fruit_list[:2]"
   ]
  },
  {
   "cell_type": "code",
   "execution_count": 46,
   "metadata": {},
   "outputs": [
    {
     "data": {
      "text/plain": [
       "array(['Cranberries', 'Grapefruit'], dtype='<U12')"
      ]
     },
     "execution_count": 46,
     "metadata": {},
     "output_type": "execute_result"
    }
   ],
   "source": [
    "fruit_suggestion_v3()"
   ]
  },
  {
   "cell_type": "markdown",
   "metadata": {},
   "source": [
    "## Guess the number game"
   ]
  },
  {
   "cell_type": "code",
   "execution_count": 50,
   "metadata": {},
   "outputs": [
    {
     "name": "stdout",
     "output_type": "stream",
     "text": [
      "5\n"
     ]
    }
   ],
   "source": [
    "number_to_predict = np.random.randint(1,101)\n",
    "print(number_to_predict)"
   ]
  },
  {
   "cell_type": "code",
   "execution_count": 52,
   "metadata": {},
   "outputs": [
    {
     "name": "stdin",
     "output_type": "stream",
     "text": [
      "Enter a number between 1 and 100 99\n"
     ]
    },
    {
     "name": "stdout",
     "output_type": "stream",
     "text": [
      "99\n"
     ]
    }
   ],
   "source": [
    "# Shows the message “Enter a number between 1 and 100”.\n",
    "value = input(\"Enter a number between 1 and 100\")\n",
    "user_prediction = int(value)\n",
    "print(user_prediction)"
   ]
  },
  {
   "cell_type": "code",
   "execution_count": null,
   "metadata": {},
   "outputs": [],
   "source": [
    "# If the number is correct, tell the user “Well done!”; \n",
    "# If the number is not correct, tell the user whether the user’s number was higher or lower than the memorized number. \n",
    "\n",
    "if user_prediction == number_to_predict:\n",
    "    print(\"Well done!\")\n",
    "elif user_prediction > number_to_predict:\n",
    "    print(\"Select a lower number\")\n",
    "else:\n",
    "    print(\"Select a higher value\")"
   ]
  },
  {
   "cell_type": "code",
   "execution_count": 53,
   "metadata": {},
   "outputs": [
    {
     "name": "stdin",
     "output_type": "stream",
     "text": [
      "Enter a number between 1 and 100 50\n"
     ]
    },
    {
     "name": "stdout",
     "output_type": "stream",
     "text": [
      "Select a higher value\n"
     ]
    },
    {
     "name": "stdin",
     "output_type": "stream",
     "text": [
      "Enter a number between 1 and 100 75\n"
     ]
    },
    {
     "name": "stdout",
     "output_type": "stream",
     "text": [
      "Select a lower number\n"
     ]
    },
    {
     "name": "stdin",
     "output_type": "stream",
     "text": [
      "Enter a number between 1 and 100 60\n"
     ]
    },
    {
     "name": "stdout",
     "output_type": "stream",
     "text": [
      "Select a higher value\n"
     ]
    },
    {
     "name": "stdin",
     "output_type": "stream",
     "text": [
      "Enter a number between 1 and 100 65\n"
     ]
    },
    {
     "name": "stdout",
     "output_type": "stream",
     "text": [
      "Select a higher value\n"
     ]
    },
    {
     "name": "stdin",
     "output_type": "stream",
     "text": [
      "Enter a number between 1 and 100 70\n"
     ]
    },
    {
     "name": "stdout",
     "output_type": "stream",
     "text": [
      "Select a lower number\n"
     ]
    },
    {
     "name": "stdin",
     "output_type": "stream",
     "text": [
      "Enter a number between 1 and 100 67\n"
     ]
    },
    {
     "name": "stdout",
     "output_type": "stream",
     "text": [
      "Well done!\n",
      "Number of trials:  6\n"
     ]
    }
   ],
   "source": [
    "# combining the statements here\n",
    "number_to_predict = np.random.randint(1,101)\n",
    "user_prediction = -1\n",
    "counter = 0\n",
    "\n",
    "while number_to_predict != user_prediction:\n",
    "    value = input(\"Enter a number between 1 and 100\")\n",
    "    user_prediction = int(value)\n",
    "    counter = counter + 1\n",
    "    if user_prediction == number_to_predict:\n",
    "        print(\"Well done!\")\n",
    "    elif user_prediction > number_to_predict:\n",
    "        print(\"Select a lower number\")\n",
    "    else:\n",
    "        print(\"Select a higher value\")\n",
    "\n",
    "print(\"Number of trials: \", counter)"
   ]
  },
  {
   "cell_type": "code",
   "execution_count": null,
   "metadata": {},
   "outputs": [],
   "source": []
  }
 ],
 "metadata": {
  "kernelspec": {
   "display_name": "Python 3",
   "language": "python",
   "name": "python3"
  },
  "language_info": {
   "codemirror_mode": {
    "name": "ipython",
    "version": 3
   },
   "file_extension": ".py",
   "mimetype": "text/x-python",
   "name": "python",
   "nbconvert_exporter": "python",
   "pygments_lexer": "ipython3",
   "version": "3.6.9"
  }
 },
 "nbformat": 4,
 "nbformat_minor": 4
}
