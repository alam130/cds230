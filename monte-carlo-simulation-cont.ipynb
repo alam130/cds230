{
 "cells": [
  {
   "cell_type": "markdown",
   "metadata": {},
   "source": [
    "# CDS 230 - Modeling and Simulation 1 - Fall 2019\n",
    "\n",
    "# Monte Carlo Simulation Cont.\n",
    "\n",
    "**Lecturer:** Dr. Hamdi Kavak\n",
    "\n",
    "**Email:** hkavak@gmu.edu\n",
    "\n",
    "**Lecture:** 11/18/2019"
   ]
  },
  {
   "cell_type": "code",
   "execution_count": 2,
   "metadata": {},
   "outputs": [],
   "source": [
    "import numpy as np\n",
    "import matplotlib.pyplot as plt"
   ]
  },
  {
   "cell_type": "markdown",
   "metadata": {},
   "source": [
    "## Yahtzee example revisited"
   ]
  },
  {
   "cell_type": "code",
   "execution_count": 5,
   "metadata": {},
   "outputs": [],
   "source": [
    "def yahtzee():\n",
    "    number_of_dice_kept = 0\n",
    "    value_we_keep = 0\n",
    "\n",
    "    for i in range(3):\n",
    "        dice = np.random.randint(1,7,size=5-number_of_dice_kept)\n",
    "\n",
    "        if value_we_keep > 0:\n",
    "            for die in dice:\n",
    "                if die == value_we_keep:\n",
    "                    number_of_dice_kept = number_of_dice_kept + 1\n",
    "        else:\n",
    "            counts = np.zeros(6)\n",
    "            for die in dice:\n",
    "                counts[die-1] += 1\n",
    "\n",
    "            number_of_dice_kept = int(counts.max())\n",
    "            if number_of_dice_kept == 1:\n",
    "                value_we_keep = 0\n",
    "                number_of_dice_kept = 0\n",
    "            else:\n",
    "                value_we_keep = counts.argmax() + 1\n",
    "    # option 1\n",
    "    return number_of_dice_kept == 5 \n",
    "    \n",
    "    # Option 2\n",
    "    # if number_of_dice_kept == 5:\n",
    "    #     return True\n",
    "    # else:\n",
    "    #     return False\n",
    "        "
   ]
  },
  {
   "cell_type": "code",
   "execution_count": 21,
   "metadata": {},
   "outputs": [
    {
     "name": "stdout",
     "output_type": "stream",
     "text": [
      "Ratio: 0.04723\n",
      "Percentage: 4.723\n"
     ]
    }
   ],
   "source": [
    "# monte carlo simulation\n",
    "N=100000\n",
    "number_of_yahtzee_scores = 0\n",
    "\n",
    "for i in range(N):\n",
    "    outcome = yahtzee()\n",
    "    if outcome == True:\n",
    "        number_of_yahtzee_scores = number_of_yahtzee_scores + 1\n",
    "\n",
    "print(\"Ratio:\", number_of_yahtzee_scores/N)\n",
    "print(\"Percentage:\", 100 * number_of_yahtzee_scores/N)"
   ]
  },
  {
   "cell_type": "markdown",
   "metadata": {},
   "source": [
    "## Determining number of runs (N)"
   ]
  },
  {
   "cell_type": "markdown",
   "metadata": {},
   "source": [
    "### N=100"
   ]
  },
  {
   "cell_type": "code",
   "execution_count": 29,
   "metadata": {},
   "outputs": [
    {
     "name": "stdout",
     "output_type": "stream",
     "text": [
      "[0.08, 0.04, 0.03, 0.01, 0.03, 0.04, 0.06, 0.03, 0.03, 0.06, 0.03, 0.02, 0.01, 0.08, 0.05, 0.02, 0.02, 0.01, 0.02, 0.05, 0.04, 0.05, 0.05, 0.05, 0.04, 0.05, 0.08, 0.07, 0.06, 0.07, 0.03, 0.05, 0.03, 0.04, 0.03, 0.06, 0.04, 0.03, 0.08, 0.07, 0.06, 0.08, 0.05, 0.06, 0.04, 0.06, 0.08, 0.06, 0.03, 0.05, 0.08, 0.02, 0.02, 0.04, 0.06, 0.06, 0.05, 0.04, 0.06, 0.04, 0.06, 0.02, 0.05, 0.07, 0.05, 0.02, 0.02, 0.05, 0.05, 0.08, 0.06, 0.03, 0.05, 0.02, 0.01, 0.02, 0.05, 0.09, 0.1, 0.03, 0.09, 0.02, 0.05, 0.03, 0.03, 0.03, 0.04, 0.05, 0.06, 0.09, 0.04, 0.07, 0.05, 0.04, 0.03, 0.05, 0.08, 0.03, 0.07, 0.03]\n"
     ]
    }
   ],
   "source": [
    "# 11/18/2019 lecture slide #7\n",
    "N=100 # step 1\n",
    "all_results_100 = []\n",
    "\n",
    "for j in range(100): # step 5\n",
    "    np.random.seed(j) # step 2\n",
    "\n",
    "    number_of_yahtzee_scores = 0\n",
    "\n",
    "    for i in range(N): # Step 3\n",
    "        outcome = yahtzee()\n",
    "        if outcome == True:\n",
    "            number_of_yahtzee_scores = number_of_yahtzee_scores + 1\n",
    "\n",
    "    estimated_result = number_of_yahtzee_scores/N # step 4\n",
    "    all_results_100.append(estimated_result)\n",
    "\n",
    "print(all_results_100)"
   ]
  },
  {
   "cell_type": "code",
   "execution_count": 30,
   "metadata": {},
   "outputs": [
    {
     "data": {
      "text/plain": [
       "(array([ 4., 12., 18., 13., 20., 14.,  6.,  9.,  3.,  1.]),\n",
       " array([0.01 , 0.019, 0.028, 0.037, 0.046, 0.055, 0.064, 0.073, 0.082,\n",
       "        0.091, 0.1  ]),\n",
       " <a list of 10 Patch objects>)"
      ]
     },
     "execution_count": 30,
     "metadata": {},
     "output_type": "execute_result"
    },
    {
     "data": {
      "image/png": "[encoded data removed]",
      "text/plain": [
       "<Figure size 432x288 with 1 Axes>"
      ]
     },
     "metadata": {
      "needs_background": "light"
     },
     "output_type": "display_data"
    }
   ],
   "source": [
    "plt.hist(all_results_100)"
   ]
  },
  {
   "cell_type": "markdown",
   "metadata": {},
   "source": [
    "### N=1000"
   ]
  },
  {
   "cell_type": "code",
   "execution_count": 31,
   "metadata": {},
   "outputs": [
    {
     "name": "stdout",
     "output_type": "stream",
     "text": [
      "[0.047, 0.044, 0.043, 0.042, 0.04, 0.043, 0.044, 0.046, 0.037, 0.044, 0.049, 0.036, 0.035, 0.045, 0.035, 0.04, 0.048, 0.044, 0.052, 0.043, 0.041, 0.048, 0.047, 0.04, 0.054, 0.047, 0.053, 0.043, 0.043, 0.05, 0.043, 0.04, 0.046, 0.049, 0.051, 0.037, 0.05, 0.05, 0.051, 0.046, 0.044, 0.053, 0.048, 0.044, 0.058, 0.046, 0.05, 0.056, 0.038, 0.056, 0.051, 0.052, 0.042, 0.044, 0.045, 0.05, 0.047, 0.046, 0.044, 0.047, 0.036, 0.04, 0.036, 0.034, 0.043, 0.053, 0.038, 0.053, 0.055, 0.045, 0.057, 0.04, 0.045, 0.04, 0.038, 0.041, 0.046, 0.051, 0.058, 0.053, 0.04, 0.053, 0.047, 0.041, 0.044, 0.045, 0.044, 0.053, 0.046, 0.046, 0.055, 0.042, 0.048, 0.044, 0.055, 0.056, 0.047, 0.042, 0.049, 0.047]\n"
     ]
    },
    {
     "data": {
      "text/plain": [
       "(array([ 6.,  5., 11., 11., 16., 20.,  8., 13.,  4.,  6.]),\n",
       " array([0.034 , 0.0364, 0.0388, 0.0412, 0.0436, 0.046 , 0.0484, 0.0508,\n",
       "        0.0532, 0.0556, 0.058 ]),\n",
       " <a list of 10 Patch objects>)"
      ]
     },
     "execution_count": 31,
     "metadata": {},
     "output_type": "execute_result"
    },
    {
     "data": {
      "image/png": "[encoded data removed]",
      "text/plain": [
       "<Figure size 432x288 with 1 Axes>"
      ]
     },
     "metadata": {
      "needs_background": "light"
     },
     "output_type": "display_data"
    }
   ],
   "source": [
    "# 11/18/2019 lecture slide #7\n",
    "N=1000 # step 1\n",
    "all_results_1000 = []\n",
    "\n",
    "for j in range(100): # step 5\n",
    "    np.random.seed(j) # step 2\n",
    "\n",
    "    number_of_yahtzee_scores = 0\n",
    "\n",
    "    for i in range(N): # Step 3\n",
    "        outcome = yahtzee()\n",
    "        if outcome == True:\n",
    "            number_of_yahtzee_scores = number_of_yahtzee_scores + 1\n",
    "\n",
    "    estimated_result = number_of_yahtzee_scores/N # step 4\n",
    "    all_results_1000.append(estimated_result)\n",
    "\n",
    "print(all_results_1000)\n",
    "plt.hist(all_results_1000)"
   ]
  },
  {
   "cell_type": "code",
   "execution_count": 32,
   "metadata": {},
   "outputs": [
    {
     "name": "stdout",
     "output_type": "stream",
     "text": [
      "Standard deviation for N=100: 0.020961631615883335\n",
      "Standard deviation for N=1000: 0.005692547760010451\n"
     ]
    }
   ],
   "source": [
    "# step 6 - calculating the standard deviation\n",
    "standard_dev_100 = np.std(all_results_100)\n",
    "print(\"Standard deviation for N=100:\",standard_dev_100)\n",
    "\n",
    "standard_dev_1000 = np.std(all_results_1000)\n",
    "print(\"Standard deviation for N=1000:\",standard_dev_1000)"
   ]
  },
  {
   "cell_type": "code",
   "execution_count": 35,
   "metadata": {},
   "outputs": [
    {
     "name": "stdout",
     "output_type": "stream",
     "text": [
      "0.04690000000000001\n",
      "0.04592999999999999\n"
     ]
    }
   ],
   "source": [
    "# calculating the confidence interval\n",
    "mean_100 = np.mean(all_results_100) \n",
    "print(mean_100)\n",
    "\n",
    "mean_1000 = np.mean(all_results_1000) \n",
    "print(mean_1000)"
   ]
  },
  {
   "cell_type": "code",
   "execution_count": 37,
   "metadata": {},
   "outputs": [],
   "source": [
    "lower_bound_of_confidence_interval_100 = mean_100 - 1.96*standard_dev_100\n",
    "upper_bound_of_confidence_interval_100 = mean_100 + 1.96*standard_dev_100"
   ]
  },
  {
   "cell_type": "code",
   "execution_count": 38,
   "metadata": {},
   "outputs": [
    {
     "name": "stdout",
     "output_type": "stream",
     "text": [
      "95% of the time, values will fall within  0.0058152020328686715 , 0.08798479796713135\n"
     ]
    }
   ],
   "source": [
    "# if we use N=100\n",
    "print(\"95% of the time, values will fall within \",lower_bound_of_confidence_interval_100,\",\",upper_bound_of_confidence_interval_100)"
   ]
  },
  {
   "cell_type": "code",
   "execution_count": 39,
   "metadata": {},
   "outputs": [],
   "source": [
    "lower_bound_of_confidence_interval_1000 = mean_1000 - 1.96*standard_dev_1000\n",
    "upper_bound_of_confidence_interval_1000 = mean_1000 + 1.96*standard_dev_1000"
   ]
  },
  {
   "cell_type": "code",
   "execution_count": 41,
   "metadata": {},
   "outputs": [
    {
     "name": "stdout",
     "output_type": "stream",
     "text": [
      "95% of the time, values will fall within  0.034772606390379504 , 0.05708739360962048\n"
     ]
    }
   ],
   "source": [
    "# if we use N=1000\n",
    "print(\"95% of the time, values will fall within \",lower_bound_of_confidence_interval_1000,\",\",upper_bound_of_confidence_interval_1000)"
   ]
  },
  {
   "cell_type": "markdown",
   "metadata": {},
   "source": [
    "### Compact version"
   ]
  },
  {
   "cell_type": "code",
   "execution_count": 42,
   "metadata": {},
   "outputs": [],
   "source": [
    "def monte_carlo_run(N,number_of_repeats):\n",
    "    all_results = []\n",
    "\n",
    "    for j in range(number_of_repeats): # step 5\n",
    "        np.random.seed(j) # step 2\n",
    "\n",
    "        number_of_yahtzee_scores = 0\n",
    "\n",
    "        for i in range(N): # Step 3\n",
    "            outcome = yahtzee()\n",
    "            if outcome == True:\n",
    "                number_of_yahtzee_scores = number_of_yahtzee_scores + 1\n",
    "\n",
    "        estimated_result = number_of_yahtzee_scores/N # step 4\n",
    "        all_results.append(estimated_result)\n",
    "\n",
    "    return all_results"
   ]
  },
  {
   "cell_type": "code",
   "execution_count": 43,
   "metadata": {},
   "outputs": [],
   "source": [
    "results = monte_carlo_run(N=1000, number_of_repeats=1000)"
   ]
  },
  {
   "cell_type": "code",
   "execution_count": 45,
   "metadata": {},
   "outputs": [
    {
     "data": {
      "image/png": "[encoded data removed]",
      "text/plain": [
       "<Figure size 432x288 with 1 Axes>"
      ]
     },
     "metadata": {
      "needs_background": "light"
     },
     "output_type": "display_data"
    }
   ],
   "source": [
    "mean = np.mean(results)\n",
    "std = np.std(results)\n",
    "plt.hist(results)\n",
    "plt.axvline(x=mean,color=\"black\",label=\"mean\")\n",
    "plt.axvline(x=mean-1.96*std,color=\"red\",label=\"Lower bound of conf. int.\")\n",
    "plt.axvline(x=mean+1.96*std,color=\"purple\",label=\"Upper bound of conf. int.\")\n",
    "plt.legend()\n",
    "plt.show()"
   ]
  },
  {
   "cell_type": "code",
   "execution_count": null,
   "metadata": {},
   "outputs": [],
   "source": []
  }
 ],
 "metadata": {
  "kernelspec": {
   "display_name": "Python 3",
   "language": "python",
   "name": "python3"
  },
  "language_info": {
   "codemirror_mode": {
    "name": "ipython",
    "version": 3
   },
   "file_extension": ".py",
   "mimetype": "text/x-python",
   "name": "python",
   "nbconvert_exporter": "python",
   "pygments_lexer": "ipython3",
   "version": "3.6.9"
  }
 },
 "nbformat": 4,
 "nbformat_minor": 4
}
