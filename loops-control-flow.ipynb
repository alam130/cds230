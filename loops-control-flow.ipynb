{
 "cells": [
  {
   "cell_type": "markdown",
   "metadata": {},
   "source": [
    "# CDS 230 - Modeling and Simulation 1 - Fall 2019\n",
    "# Loops and Control Flow\n",
    "\n",
    "**Lecturer:** Dr. Hamdi Kavak\n",
    "\n",
    "**Email:** hkavak@gmu.edu\n",
    "\n",
    "**Lecture:** 9/25/2019\n",
    "\n",
    "## 1. Loops"
   ]
  },
  {
   "cell_type": "markdown",
   "metadata": {},
   "source": [
    "### 1.1. The _for_ loop"
   ]
  },
  {
   "cell_type": "code",
   "execution_count": null,
   "metadata": {},
   "outputs": [],
   "source": [
    "cities = [\"Fairfax\", \"Alexandria\", \"Reston\", \"Herndon\", \"Vienna\", \"Oakton\", \"Centreville\"]\n",
    "for city in cities:\n",
    "    print(city)"
   ]
  },
  {
   "cell_type": "code",
   "execution_count": null,
   "metadata": {},
   "outputs": [],
   "source": [
    "for letter in \"GMU\":\n",
    "    print(letter)"
   ]
  },
  {
   "cell_type": "code",
   "execution_count": null,
   "metadata": {},
   "outputs": [],
   "source": [
    "coordinates = [(0,0), (0.4, 0.1), (0.7, 0.2), (0.99, 0.3)]\n",
    "for coor in coordinates:\n",
    "    print(\"x,y: \",coor)"
   ]
  },
  {
   "cell_type": "code",
   "execution_count": 4,
   "metadata": {},
   "outputs": [
    {
     "name": "stdout",
     "output_type": "stream",
     "text": [
      "F.a.i.r.f.a.x.\n",
      "A.l.e.x.a.n.d.r.i.a.\n",
      "R.e.s.t.o.n.\n",
      "H.e.r.n.d.o.n.\n",
      "V.i.e.n.n.a.\n",
      "O.a.k.t.o.n.\n",
      "C.e.n.t.r.e.v.i.l.l.e.\n"
     ]
    }
   ],
   "source": [
    "cities = [\"Fairfax\", \"Alexandria\", \"Reston\", \"Herndon\", \"Vienna\", \"Oakton\", \"Centreville\"]\n",
    "for city in cities:\n",
    "    for letter in city:\n",
    "        print(letter,end=\".\")\n",
    "    print()"
   ]
  },
  {
   "cell_type": "markdown",
   "metadata": {},
   "source": [
    "### 1.2. Range"
   ]
  },
  {
   "cell_type": "code",
   "execution_count": 5,
   "metadata": {},
   "outputs": [
    {
     "name": "stdout",
     "output_type": "stream",
     "text": [
      "9\n",
      "7\n",
      "5\n",
      "3\n",
      "1\n"
     ]
    }
   ],
   "source": [
    "for num in range(9, 0, -2):\n",
    "    print(num)"
   ]
  },
  {
   "cell_type": "code",
   "execution_count": 6,
   "metadata": {},
   "outputs": [
    {
     "name": "stdout",
     "output_type": "stream",
     "text": [
      "0\n",
      "1\n",
      "4\n",
      "9\n",
      "16\n"
     ]
    }
   ],
   "source": [
    "for num in range(5):\n",
    "    print(num*num)"
   ]
  },
  {
   "cell_type": "markdown",
   "metadata": {},
   "source": [
    "### 1.3. Enumerate"
   ]
  },
  {
   "cell_type": "code",
   "execution_count": 7,
   "metadata": {},
   "outputs": [],
   "source": [
    "cities = [\"Fairfax\", \"Alexandria\", \"Reston\", \"Herndon\", \"Vienna\", \"Oakton\", \"Centreville\"]"
   ]
  },
  {
   "cell_type": "code",
   "execution_count": 8,
   "metadata": {},
   "outputs": [
    {
     "name": "stdout",
     "output_type": "stream",
     "text": [
      "1 . Fairfax\n",
      "2 . Alexandria\n",
      "3 . Reston\n",
      "4 . Herndon\n",
      "5 . Vienna\n",
      "6 . Oakton\n",
      "7 . Centreville\n"
     ]
    }
   ],
   "source": [
    "for index in range(len(cities)):\n",
    "    print(index+1,\".\",cities[index])"
   ]
  },
  {
   "cell_type": "code",
   "execution_count": 9,
   "metadata": {},
   "outputs": [
    {
     "name": "stdout",
     "output_type": "stream",
     "text": [
      "1 . Fairfax\n",
      "2 . Alexandria\n",
      "3 . Reston\n",
      "4 . Herndon\n",
      "5 . Vienna\n",
      "6 . Oakton\n",
      "7 . Centreville\n"
     ]
    }
   ],
   "source": [
    "for index, city in enumerate(cities):\n",
    "    print(index+1,\".\",city)"
   ]
  },
  {
   "cell_type": "markdown",
   "metadata": {},
   "source": [
    "### 1.4. Zip"
   ]
  },
  {
   "cell_type": "code",
   "execution_count": 10,
   "metadata": {},
   "outputs": [],
   "source": [
    "indexes = [1, 2, 3, 4, 5, 6, 7]\n",
    "cities = [\"Fairfax\", \"Alexandria\", \"Reston\", \"Herndon\", \"Vienna\", \"Oakton\", \"Centreville\"]"
   ]
  },
  {
   "cell_type": "code",
   "execution_count": 11,
   "metadata": {},
   "outputs": [
    {
     "name": "stdout",
     "output_type": "stream",
     "text": [
      "(1, 'Fairfax')\n",
      "(2, 'Alexandria')\n",
      "(3, 'Reston')\n",
      "(4, 'Herndon')\n",
      "(5, 'Vienna')\n",
      "(6, 'Oakton')\n",
      "(7, 'Centreville')\n"
     ]
    }
   ],
   "source": [
    "for item in zip(indexes, cities):\n",
    "    print(item)"
   ]
  },
  {
   "cell_type": "code",
   "execution_count": 12,
   "metadata": {},
   "outputs": [
    {
     "name": "stdout",
     "output_type": "stream",
     "text": [
      "1 . Fairfax\n",
      "2 . Alexandria\n",
      "3 . Reston\n",
      "4 . Herndon\n",
      "5 . Vienna\n",
      "6 . Oakton\n",
      "7 . Centreville\n"
     ]
    }
   ],
   "source": [
    "for item in zip(indexes, cities):\n",
    "    print(item[0],\".\",item[1])"
   ]
  },
  {
   "cell_type": "code",
   "execution_count": 13,
   "metadata": {},
   "outputs": [
    {
     "name": "stdout",
     "output_type": "stream",
     "text": [
      "(0, 'zero', 'cero')\n",
      "(1, 'one', 'uno')\n",
      "(2, 'two', 'dos')\n"
     ]
    }
   ],
   "source": [
    "list1 = [0,1,2]\n",
    "list2 = [\"zero\", \"one\", \"two\"]\n",
    "list3 = [\"cero\", \"uno\", \"dos\"]\n",
    "for item in zip(list1, list2, list3):\n",
    "    print(item)"
   ]
  },
  {
   "cell_type": "code",
   "execution_count": 14,
   "metadata": {},
   "outputs": [
    {
     "name": "stdout",
     "output_type": "stream",
     "text": [
      "(0, 'zero')\n",
      "(1, 'one')\n",
      "(2, 'two')\n"
     ]
    }
   ],
   "source": [
    "list1 = [0,1,2]\n",
    "list2 = [\"zero\", \"one\", \"two\", \"three\"]\n",
    "for item in zip(list1, list2):\n",
    "    print(item)"
   ]
  },
  {
   "cell_type": "code",
   "execution_count": 15,
   "metadata": {},
   "outputs": [
    {
     "name": "stdout",
     "output_type": "stream",
     "text": [
      "(0, 'zero')\n",
      "(1, 'one')\n",
      "(2, 'two')\n"
     ]
    }
   ],
   "source": [
    "list1 = [0,1,2, 3]\n",
    "list2 = [\"zero\", \"one\", \"two\"]\n",
    "for item in zip(list1, list2):\n",
    "    print(item)"
   ]
  },
  {
   "cell_type": "markdown",
   "metadata": {},
   "source": [
    "### 1.5. The _while_ loop"
   ]
  },
  {
   "cell_type": "code",
   "execution_count": 16,
   "metadata": {},
   "outputs": [
    {
     "name": "stdout",
     "output_type": "stream",
     "text": [
      "1\n",
      "2\n",
      "3\n",
      "4\n",
      "5\n"
     ]
    }
   ],
   "source": [
    "index = 0\n",
    "while index < 5:\n",
    "    index = index + 1 # or index+= 1\n",
    "    print(index)"
   ]
  },
  {
   "cell_type": "code",
   "execution_count": 17,
   "metadata": {},
   "outputs": [
    {
     "name": "stdout",
     "output_type": "stream",
     "text": [
      "zero\n",
      "one\n",
      "two\n"
     ]
    }
   ],
   "source": [
    "list2 = [\"zero\", \"one\", \"two\"]\n",
    "index = 0\n",
    "while index < len(list2):\n",
    "    print(list2[index])\n",
    "    index+= 1"
   ]
  },
  {
   "cell_type": "markdown",
   "metadata": {},
   "source": [
    "## 2. Control Flow"
   ]
  },
  {
   "cell_type": "code",
   "execution_count": 18,
   "metadata": {},
   "outputs": [
    {
     "name": "stdout",
     "output_type": "stream",
     "text": [
      "0 is an even number.\n",
      "1 is an odd number.\n",
      "2 is an even number.\n",
      "3 is an odd number.\n",
      "4 is an even number.\n",
      "5 is an odd number.\n",
      "6 is an even number.\n",
      "7 is an odd number.\n",
      "8 is an even number.\n",
      "9 is an odd number.\n",
      "10 is an even number.\n"
     ]
    }
   ],
   "source": [
    "for num in range(11):\n",
    "    if num % 2 == 0:\n",
    "        print(num, \"is an even number.\")\n",
    "    else:\n",
    "        print(num, \"is an odd number.\")"
   ]
  },
  {
   "cell_type": "code",
   "execution_count": 19,
   "metadata": {},
   "outputs": [
    {
     "name": "stdout",
     "output_type": "stream",
     "text": [
      "0 is an even number.\n",
      "1 is an odd number.\n",
      "2 is an even number.\n",
      "3 is an odd number.\n",
      "4 is an even number.\n",
      "5 is an odd number.\n"
     ]
    }
   ],
   "source": [
    "num = 0\n",
    "max_number = 5\n",
    "while True:\n",
    "    if num > max_number:\n",
    "        break\n",
    "        \n",
    "    if num % 2 == 0:\n",
    "        print(num, \"is an even number.\")\n",
    "    else:\n",
    "        print(num, \"is an odd number.\")\n",
    "        \n",
    "    num += 1"
   ]
  },
  {
   "cell_type": "code",
   "execution_count": 20,
   "metadata": {},
   "outputs": [
    {
     "name": "stdout",
     "output_type": "stream",
     "text": [
      "1 is an odd number.\n",
      "3 is an odd number.\n",
      "5 is an odd number.\n",
      "7 is an odd number.\n",
      "9 is an odd number.\n"
     ]
    }
   ],
   "source": [
    "for num in range(11):\n",
    "    if num % 2 == 0:\n",
    "        continue\n",
    "    print(num, \"is an odd number.\")"
   ]
  },
  {
   "cell_type": "code",
   "execution_count": 21,
   "metadata": {},
   "outputs": [
    {
     "name": "stdout",
     "output_type": "stream",
     "text": [
      "True\n",
      "True\n",
      "False\n",
      "True\n",
      "True\n",
      "True\n"
     ]
    }
   ],
   "source": [
    "first_list = [\"Hello\", \"World\", 2019, True]\n",
    "empyt_tuple = tuple()\n",
    "one_elem_list = list([True])\n",
    "print( any(first_list))\n",
    "print( all(first_list))\n",
    "print( any(empyt_tuple))\n",
    "print( all(empyt_tuple))\n",
    "print( any(one_elem_list))\n",
    "print( all(one_elem_list))"
   ]
  },
  {
   "cell_type": "markdown",
   "metadata": {},
   "source": [
    "## 3. Example"
   ]
  },
  {
   "cell_type": "markdown",
   "metadata": {},
   "source": [
    "Three ways of generating numbers from 0.0 to 3.0 with .1 increments"
   ]
  },
  {
   "cell_type": "code",
   "execution_count": 22,
   "metadata": {},
   "outputs": [
    {
     "name": "stdout",
     "output_type": "stream",
     "text": [
      "[0.0, 0.1, 0.2, 0.3, 0.4, 0.5, 0.6, 0.7, 0.8, 0.9, 1.0, 1.1, 1.2, 1.3, 1.4, 1.5, 1.6, 1.7, 1.8, 1.9, 2.0, 2.1, 2.2, 2.3, 2.4, 2.5, 2.6, 2.7, 2.8, 2.9, 3.0]\n"
     ]
    }
   ],
   "source": [
    "time = []\n",
    "for i in range(31):\n",
    "    time.append(i/10.0)\n",
    "print (time)"
   ]
  },
  {
   "cell_type": "code",
   "execution_count": 23,
   "metadata": {},
   "outputs": [
    {
     "name": "stdout",
     "output_type": "stream",
     "text": [
      "[0.0, 0.1, 0.2, 0.3, 0.4, 0.5, 0.6, 0.7, 0.8, 0.9, 1.0, 1.1, 1.2, 1.3, 1.4, 1.5, 1.6, 1.7, 1.8, 1.9, 2.0, 2.1, 2.2, 2.3, 2.4, 2.5, 2.6, 2.7, 2.8, 2.9, 3.0]\n"
     ]
    }
   ],
   "source": [
    "time = []\n",
    "i = 0\n",
    "while i <= 30:\n",
    "    time.append(i/10)\n",
    "    i += 1\n",
    "print (time)"
   ]
  },
  {
   "cell_type": "code",
   "execution_count": 24,
   "metadata": {},
   "outputs": [
    {
     "name": "stdout",
     "output_type": "stream",
     "text": [
      "[0.0, 0.1, 0.2, 0.3, 0.4, 0.5, 0.6, 0.7, 0.8, 0.9, 1.0, 1.1, 1.2, 1.3, 1.4, 1.5, 1.6, 1.7, 1.8, 1.9, 2.0, 2.1, 2.2, 2.3, 2.4, 2.5, 2.6, 2.7, 2.8, 2.9, 3.0]\n"
     ]
    }
   ],
   "source": [
    "time = [i/10 for i in range(31)]\n",
    "print(time)"
   ]
  },
  {
   "cell_type": "markdown",
   "metadata": {},
   "source": [
    "## Print example (slide #18)"
   ]
  },
  {
   "cell_type": "code",
   "execution_count": 25,
   "metadata": {},
   "outputs": [
    {
     "name": "stdout",
     "output_type": "stream",
     "text": [
      "**********"
     ]
    }
   ],
   "source": [
    "num_of_character = 10\n",
    "charachter_to_print = \"*\"\n",
    "\n",
    "for i in range(num_of_character):\n",
    "    print(end=charachter_to_print)"
   ]
  },
  {
   "cell_type": "code",
   "execution_count": 26,
   "metadata": {},
   "outputs": [
    {
     "name": "stdout",
     "output_type": "stream",
     "text": [
      "--------------------"
     ]
    }
   ],
   "source": [
    "num_of_character = 20\n",
    "charachter_to_print = \"-\"\n",
    "\n",
    "counter=0\n",
    "while counter < num_of_character:\n",
    "    print(end=charachter_to_print)\n",
    "    counter = counter + 1"
   ]
  },
  {
   "cell_type": "markdown",
   "metadata": {},
   "source": [
    "## Dropping example (slide #19)"
   ]
  },
  {
   "cell_type": "code",
   "execution_count": 27,
   "metadata": {},
   "outputs": [
    {
     "name": "stdout",
     "output_type": "stream",
     "text": [
      "-----------\n",
      "Positions\n",
      "[100, 99.951, 99.804, 99.559, 99.216, 98.775, 98.236, 97.599, 96.864, 96.031, 95.1, 94.071, 92.944, 91.719, 90.396, 88.975, 87.45599999999999, 85.839, 84.124, 82.311, 80.4, 78.39099999999999, 76.28399999999999, 74.07900000000001, 71.776, 69.375, 66.876, 64.279, 61.584, 58.791, 55.9, 52.91099999999999, 49.823999999999984, 46.639, 43.356, 39.974999999999994, 36.49599999999999, 32.91899999999998, 29.244, 25.471000000000004, 21.599999999999994, 17.631, 13.563999999999993, 9.399000000000001, 5.1359999999999815, 0.7749999999999915]\n",
      "-----------\n",
      "Distances\n",
      "[0.049000000000006594, 0.14699999999999136, 0.24500000000000455, 0.3430000000000035, 0.4409999999999883, 0.5390000000000015, 0.6370000000000005, 0.7349999999999994, 0.8329999999999984, 0.9310000000000116, 1.0289999999999964, 1.1269999999999953, 1.2250000000000085, 1.3229999999999933, 1.4210000000000065, 1.5190000000000055, 1.6169999999999902, 1.7150000000000034, 1.8129999999999882, 1.9110000000000014, 2.0090000000000146, 2.1069999999999993, 2.204999999999984, 2.3030000000000115, 2.4009999999999962, 2.4989999999999952, 2.5970000000000084, 2.694999999999993, 2.7930000000000064, 2.8909999999999982, 2.9890000000000114, 3.0870000000000033, 3.184999999999981, 3.2830000000000013, 3.3810000000000073, 3.4790000000000063, 3.5770000000000053, 3.674999999999983, 3.772999999999996, 3.8710000000000093, 3.968999999999994, 4.067000000000007, 4.164999999999992, 4.263000000000019, 4.36099999999999]\n"
     ]
    }
   ],
   "source": [
    "starting_height = 100\n",
    "initial_velocity = 0\n",
    "gravity = -9.8\n",
    "pos_list = [starting_height]\n",
    "for i in range(1,46):\n",
    "    t = i / 10\n",
    "    y2 = starting_height + initial_velocity*t + 0.5 * gravity * t ** 2\n",
    "    pos_list.append(y2)\n",
    "    #print(“time:“,t, ” height:“, y2)\n",
    "\n",
    "print(\"-----------\")\n",
    "print(\"Positions\")\n",
    "print(pos_list)\n",
    "distance_list = []\n",
    "\n",
    "for i in range(len(pos_list)-1):\n",
    "    distance_list.append(pos_list[i]-pos_list[i+1])\n",
    "print(\"-----------\")\n",
    "print(\"Distances\")\n",
    "print (distance_list)"
   ]
  },
  {
   "cell_type": "code",
   "execution_count": null,
   "metadata": {},
   "outputs": [],
   "source": []
  }
 ],
 "metadata": {
  "kernelspec": {
   "display_name": "Python 3",
   "language": "python",
   "name": "python3"
  },
  "language_info": {
   "codemirror_mode": {
    "name": "ipython",
    "version": 3
   },
   "file_extension": ".py",
   "mimetype": "text/x-python",
   "name": "python",
   "nbconvert_exporter": "python",
   "pygments_lexer": "ipython3",
   "version": "3.7.3"
  }
 },
 "nbformat": 4,
 "nbformat_minor": 4
}
