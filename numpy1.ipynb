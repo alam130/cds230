{
 "cells": [
  {
   "cell_type": "markdown",
   "metadata": {},
   "source": [
    "# CDS 230 - Modeling and Simulation 1 - Fall 2019\n",
    "# Numpy\n",
    "\n",
    "**Lecturer:** Dr. Hamdi Kavak\n",
    "\n",
    "**Email:** hkavak@gmu.edu\n",
    "\n",
    "**Lecture:** 10/7/2019\n"
   ]
  },
  {
   "cell_type": "markdown",
   "metadata": {},
   "source": [
    "## 1. Importing numpy"
   ]
  },
  {
   "cell_type": "code",
   "execution_count": 2,
   "metadata": {},
   "outputs": [],
   "source": [
    "import numpy as np"
   ]
  },
  {
   "cell_type": "markdown",
   "metadata": {},
   "source": [
    "## 2. Creating arrays"
   ]
  },
  {
   "cell_type": "code",
   "execution_count": 3,
   "metadata": {},
   "outputs": [
    {
     "data": {
      "text/plain": [
       "array([0., 0., 0., 0., 0.])"
      ]
     },
     "execution_count": 3,
     "metadata": {},
     "output_type": "execute_result"
    }
   ],
   "source": [
    "vec = np.zeros( 5 )\n",
    "vec"
   ]
  },
  {
   "cell_type": "code",
   "execution_count": 4,
   "metadata": {},
   "outputs": [
    {
     "data": {
      "text/plain": [
       "array([1., 1., 1., 1., 1.])"
      ]
     },
     "execution_count": 4,
     "metadata": {},
     "output_type": "execute_result"
    }
   ],
   "source": [
    "vec = np.full(5, 1.0)\n",
    "vec"
   ]
  },
  {
   "cell_type": "code",
   "execution_count": 5,
   "metadata": {},
   "outputs": [
    {
     "data": {
      "text/plain": [
       "array([4, 4, 1, 6])"
      ]
     },
     "execution_count": 5,
     "metadata": {},
     "output_type": "execute_result"
    }
   ],
   "source": [
    "np.array([4,4,1,6])"
   ]
  },
  {
   "cell_type": "code",
   "execution_count": 6,
   "metadata": {},
   "outputs": [
    {
     "data": {
      "text/plain": [
       "array([4., 4., 1., 6.])"
      ]
     },
     "execution_count": 6,
     "metadata": {},
     "output_type": "execute_result"
    }
   ],
   "source": [
    "np.array([4,4,1,6.0])"
   ]
  },
  {
   "cell_type": "code",
   "execution_count": 7,
   "metadata": {},
   "outputs": [
    {
     "data": {
      "text/plain": [
       "array(['4', '4', '1', '6'], dtype='<U21')"
      ]
     },
     "execution_count": 7,
     "metadata": {},
     "output_type": "execute_result"
    }
   ],
   "source": [
    "np.array([4,4,1,\"6\"])"
   ]
  },
  {
   "cell_type": "markdown",
   "metadata": {},
   "source": [
    "## 3. Creating arrays w/ random values"
   ]
  },
  {
   "cell_type": "code",
   "execution_count": 8,
   "metadata": {},
   "outputs": [
    {
     "data": {
      "text/plain": [
       "array([0.75501967, 0.0262822 , 0.07794013, 0.89892791])"
      ]
     },
     "execution_count": 8,
     "metadata": {},
     "output_type": "execute_result"
    }
   ],
   "source": [
    "vec = np.random.random(4)\n",
    "vec"
   ]
  },
  {
   "cell_type": "code",
   "execution_count": 13,
   "metadata": {},
   "outputs": [
    {
     "data": {
      "text/plain": [
       "array([3, 3, 4, 1])"
      ]
     },
     "execution_count": 13,
     "metadata": {},
     "output_type": "execute_result"
    }
   ],
   "source": [
    "vec = np.random.randint(1,6,4)\n",
    "vec"
   ]
  },
  {
   "cell_type": "code",
   "execution_count": 9,
   "metadata": {},
   "outputs": [
    {
     "data": {
      "text/plain": [
       "array([0.35846469, 0.77451298, 0.15087849, 0.82660523, 0.17576449,\n",
       "       0.71226487, 0.17593594, 0.39902983, 0.23795018, 0.92141048,\n",
       "       0.0117508 , 0.91708938, 0.54539842, 0.74121229, 0.71757155,\n",
       "       0.16266148, 0.26903274, 0.76150291, 0.94069854, 0.12357852,\n",
       "       0.18019493, 0.6819162 , 0.91685318, 0.79641327, 0.98860359,\n",
       "       0.57408123, 0.94118066, 0.93568715, 0.7397282 , 0.64016067,\n",
       "       0.91817016, 0.78376564, 0.59234063, 0.13711589, 0.65232768,\n",
       "       0.18254546, 0.5227466 , 0.17327965, 0.59023643, 0.80916433,\n",
       "       0.81127616, 0.44741294, 0.39846879, 0.3209138 , 0.24765607,\n",
       "       0.1818303 , 0.7226836 , 0.45560892, 0.69149294, 0.59434258,\n",
       "       0.98837328, 0.9480647 , 0.96933242, 0.63722027, 0.38460225,\n",
       "       0.93370954, 0.02181841, 0.52460362, 0.33157321, 0.43547651,\n",
       "       0.18468617, 0.01223185, 0.16440112, 0.61954091, 0.93681645,\n",
       "       0.19508115, 0.97413405, 0.81792091, 0.06204738, 0.65529382,\n",
       "       0.36807633, 0.17149767, 0.85520454, 0.11964864, 0.97031266,\n",
       "       0.79627894, 0.11243948, 0.04428104, 0.62859646, 0.9106482 ,\n",
       "       0.13326481, 0.25007363, 0.66340838, 0.77973629, 0.29062973,\n",
       "       0.68698655, 0.07624197, 0.35833944, 0.05928828, 0.50483135,\n",
       "       0.71256336, 0.8095939 , 0.92364977, 0.35901624, 0.92266662,\n",
       "       0.12871028, 0.17891925, 0.49346012, 0.4135263 , 0.36438616])"
      ]
     },
     "execution_count": 9,
     "metadata": {},
     "output_type": "execute_result"
    }
   ],
   "source": [
    "vec = np.random.random(100)\n",
    "vec"
   ]
  },
  {
   "cell_type": "markdown",
   "metadata": {},
   "source": [
    "## 4. Slicing arrays"
   ]
  },
  {
   "cell_type": "code",
   "execution_count": 10,
   "metadata": {},
   "outputs": [
    {
     "data": {
      "text/plain": [
       "0.35846469065173314"
      ]
     },
     "execution_count": 10,
     "metadata": {},
     "output_type": "execute_result"
    }
   ],
   "source": [
    "vec[0]"
   ]
  },
  {
   "cell_type": "code",
   "execution_count": 11,
   "metadata": {},
   "outputs": [
    {
     "data": {
      "text/plain": [
       "array([0.35846469, 0.77451298, 0.15087849, 0.82660523])"
      ]
     },
     "execution_count": 11,
     "metadata": {},
     "output_type": "execute_result"
    }
   ],
   "source": [
    "vec[:4]"
   ]
  },
  {
   "cell_type": "code",
   "execution_count": 12,
   "metadata": {},
   "outputs": [
    {
     "data": {
      "text/plain": [
       "0.36438616175314675"
      ]
     },
     "execution_count": 12,
     "metadata": {},
     "output_type": "execute_result"
    }
   ],
   "source": [
    "vec[-1]"
   ]
  },
  {
   "cell_type": "markdown",
   "metadata": {},
   "source": [
    "## 5. Matrix"
   ]
  },
  {
   "cell_type": "code",
   "execution_count": 14,
   "metadata": {},
   "outputs": [
    {
     "data": {
      "text/plain": [
       "array([[0., 0., 0.],\n",
       "       [0., 0., 0.]])"
      ]
     },
     "execution_count": 14,
     "metadata": {},
     "output_type": "execute_result"
    }
   ],
   "source": [
    "mat = np.zeros((2,3))\n",
    "mat"
   ]
  },
  {
   "cell_type": "code",
   "execution_count": 15,
   "metadata": {},
   "outputs": [
    {
     "data": {
      "text/plain": [
       "array([[0.17706446, 0.53955867, 0.91566675],\n",
       "       [0.59464253, 0.08648464, 0.80242614]])"
      ]
     },
     "execution_count": 15,
     "metadata": {},
     "output_type": "execute_result"
    }
   ],
   "source": [
    "mat = np.random.random((2,3))\n",
    "mat"
   ]
  },
  {
   "cell_type": "markdown",
   "metadata": {},
   "source": [
    "## 6. Control printing"
   ]
  },
  {
   "cell_type": "code",
   "execution_count": 16,
   "metadata": {},
   "outputs": [
    {
     "data": {
      "text/plain": [
       "array([[0.177, 0.54 , 0.916],\n",
       "       [0.595, 0.086, 0.802]])"
      ]
     },
     "execution_count": 16,
     "metadata": {},
     "output_type": "execute_result"
    }
   ],
   "source": [
    "np.set_printoptions(precision=3)\n",
    "mat"
   ]
  },
  {
   "cell_type": "markdown",
   "metadata": {},
   "source": [
    "## 7. Slicing matrices"
   ]
  },
  {
   "cell_type": "code",
   "execution_count": 17,
   "metadata": {},
   "outputs": [
    {
     "data": {
      "text/plain": [
       "0.17706445610094457"
      ]
     },
     "execution_count": 17,
     "metadata": {},
     "output_type": "execute_result"
    }
   ],
   "source": [
    "mat[0,0]"
   ]
  },
  {
   "cell_type": "code",
   "execution_count": 18,
   "metadata": {},
   "outputs": [
    {
     "data": {
      "text/plain": [
       "array([0.177, 0.54 , 0.916])"
      ]
     },
     "execution_count": 18,
     "metadata": {},
     "output_type": "execute_result"
    }
   ],
   "source": [
    "mat[0]"
   ]
  },
  {
   "cell_type": "code",
   "execution_count": 19,
   "metadata": {},
   "outputs": [
    {
     "data": {
      "text/plain": [
       "array([0.177, 0.595])"
      ]
     },
     "execution_count": 19,
     "metadata": {},
     "output_type": "execute_result"
    }
   ],
   "source": [
    "mat[:,0]"
   ]
  },
  {
   "cell_type": "code",
   "execution_count": 21,
   "metadata": {},
   "outputs": [
    {
     "data": {
      "text/plain": [
       "array([[0.865, 0.601, 0.326, 0.213, 0.635, 0.811, 0.328, 0.92 , 0.667,\n",
       "        0.663],\n",
       "       [0.865, 0.559, 0.66 , 0.07 , 0.375, 0.595, 0.714, 0.952, 0.55 ,\n",
       "        0.762],\n",
       "       [0.048, 0.241, 0.006, 0.048, 0.824, 0.453, 0.832, 0.726, 0.766,\n",
       "        0.871],\n",
       "       [0.873, 0.507, 0.097, 0.3  , 0.287, 0.836, 0.104, 0.889, 0.202,\n",
       "        0.059],\n",
       "       [0.48 , 0.151, 0.55 , 0.424, 0.842, 0.125, 0.021, 0.485, 0.521,\n",
       "        0.429],\n",
       "       [0.696, 0.147, 0.634, 0.355, 0.255, 0.108, 0.111, 0.092, 0.119,\n",
       "        0.071],\n",
       "       [0.968, 0.573, 0.391, 0.146, 0.749, 0.919, 0.621, 0.118, 0.581,\n",
       "        0.98 ],\n",
       "       [0.174, 0.812, 0.155, 0.382, 0.179, 0.668, 0.466, 0.937, 0.002,\n",
       "        0.306],\n",
       "       [0.843, 0.751, 0.769, 0.945, 0.313, 0.798, 0.925, 0.339, 0.899,\n",
       "        0.082],\n",
       "       [0.049, 0.416, 0.794, 0.908, 0.961, 0.821, 0.333, 0.816, 0.927,\n",
       "        0.017]])"
      ]
     },
     "execution_count": 21,
     "metadata": {},
     "output_type": "execute_result"
    }
   ],
   "source": [
    "mat2 = np.random.random((10,10))\n",
    "mat2"
   ]
  },
  {
   "cell_type": "code",
   "execution_count": 22,
   "metadata": {},
   "outputs": [
    {
     "data": {
      "text/plain": [
       "array([[0.865, 0.559, 0.66 , 0.07 , 0.375, 0.595, 0.714, 0.952, 0.55 ,\n",
       "        0.762],\n",
       "       [0.048, 0.241, 0.006, 0.048, 0.824, 0.453, 0.832, 0.726, 0.766,\n",
       "        0.871],\n",
       "       [0.873, 0.507, 0.097, 0.3  , 0.287, 0.836, 0.104, 0.889, 0.202,\n",
       "        0.059]])"
      ]
     },
     "execution_count": 22,
     "metadata": {},
     "output_type": "execute_result"
    }
   ],
   "source": [
    "mat2[1:4]"
   ]
  },
  {
   "cell_type": "code",
   "execution_count": 23,
   "metadata": {},
   "outputs": [
    {
     "data": {
      "text/plain": [
       "array([[0.66 , 0.07 ],\n",
       "       [0.006, 0.048],\n",
       "       [0.097, 0.3  ]])"
      ]
     },
     "execution_count": 23,
     "metadata": {},
     "output_type": "execute_result"
    }
   ],
   "source": [
    "mat2[1:4,2:4]"
   ]
  },
  {
   "cell_type": "code",
   "execution_count": 24,
   "metadata": {},
   "outputs": [
    {
     "data": {
      "text/plain": [
       "array([0.507, 0.48 , 0.453])"
      ]
     },
     "execution_count": 24,
     "metadata": {},
     "output_type": "execute_result"
    }
   ],
   "source": [
    "v = [3,4,2]\n",
    "h = [1,0,5]\n",
    "\n",
    "mat2[v,h]"
   ]
  },
  {
   "cell_type": "markdown",
   "metadata": {},
   "source": [
    "## 8. Setting values"
   ]
  },
  {
   "cell_type": "code",
   "execution_count": 26,
   "metadata": {},
   "outputs": [
    {
     "name": "stdout",
     "output_type": "stream",
     "text": [
      "Print before setting values\n",
      "[[0. 0. 0. 0. 0.]\n",
      " [0. 0. 0. 0. 0.]\n",
      " [0. 0. 0. 0. 0.]\n",
      " [0. 0. 0. 0. 0.]]\n",
      "Print after setting values\n",
      "[[0. 0. 0. 0. 0.]\n",
      " [0. 0. 1. 2. 3.]\n",
      " [0. 0. 4. 5. 6.]\n",
      " [0. 0. 0. 0. 0.]]\n"
     ]
    }
   ],
   "source": [
    "mat3 = np.zeros((4,5))\n",
    "print(\"Print before setting values\")\n",
    "print(mat3)\n",
    "mat3[1:3, 2:5] = ((1,2,3), (4,5,6))\n",
    "print(\"Print after setting values\")\n",
    "print(mat3)"
   ]
  },
  {
   "cell_type": "markdown",
   "metadata": {},
   "source": [
    "## 9. Comparison"
   ]
  },
  {
   "cell_type": "code",
   "execution_count": 27,
   "metadata": {},
   "outputs": [
    {
     "data": {
      "text/plain": [
       "array([0.153, 0.49 , 0.058, 0.347])"
      ]
     },
     "execution_count": 27,
     "metadata": {},
     "output_type": "execute_result"
    }
   ],
   "source": [
    "vec = np.random.random(4)\n",
    "vec"
   ]
  },
  {
   "cell_type": "code",
   "execution_count": 28,
   "metadata": {},
   "outputs": [
    {
     "data": {
      "text/plain": [
       "array([False,  True, False,  True])"
      ]
     },
     "execution_count": 28,
     "metadata": {},
     "output_type": "execute_result"
    }
   ],
   "source": [
    "vec > 0.3"
   ]
  },
  {
   "cell_type": "code",
   "execution_count": 29,
   "metadata": {},
   "outputs": [
    {
     "data": {
      "text/plain": [
       "array([1, 3])"
      ]
     },
     "execution_count": 29,
     "metadata": {},
     "output_type": "execute_result"
    }
   ],
   "source": [
    "np.where(vec > 0.3)[0]"
   ]
  },
  {
   "cell_type": "markdown",
   "metadata": {},
   "source": [
    "## 10. Generating many random values"
   ]
  },
  {
   "cell_type": "code",
   "execution_count": 6,
   "metadata": {},
   "outputs": [
    {
     "name": "stdout",
     "output_type": "stream",
     "text": [
      "[0],[0],[2],[4],[1],[0],[4],[0],[3],[0],[2],[5],[1],[1],[3],[1],[4],[5],[2],[3],[4],[2],[5],[1],[0],[4],[3],[5],[4],[3],[3],[5],[3],[3],[3],[5],[5],[1],[0],[1],[4],[1],[5],[2],[5],[3],[0],[5],[3],[5],[4],[2],[5],[0],[0],[3],[0],[2],[4],[0],[0],[0],[3],[4],[4],[4],[3],[5],[4],[4],[5],[2],[5],[2],[3],[1],[1],[0],[4],[5],[5],[1],[3],[5],[0],[4],[5],[4],[2],[1],[2],[1],[5],[2],[2],[3],[3],[5],[5],[4],[1],[5],[5],[5],[5],[3],[5],[5],[5],[1],[3],[3],[1],[3],[0],[4],[1],[3],[0],[0],[2],[0],[0],[0],[1],[2],[5],[5],[3],[2],[0],[1],[4],[5],[4],[3],[5],[3],[5],[0],[5],[0],[4],[4],[4],[5],[3],[5],[2],[3],[5],[3],[5],[0],[4],[3],[0],[5],[0],[0],[4],[0],[3],[1],[2],[1],[0],[5],[4],[3],[3],[3],[2],[2],[3],[3],[0],[4],[3],[2],[2],[1],[2],[2],[0],[4],[0],[3],[4],[0],[1],[3],[5],[3],[4],[4],[1],[1],[0],[2],"
     ]
    }
   ],
   "source": [
    "for i in range(200):\n",
    "    print(np.random.randint(0,6,1), end=\",\")"
   ]
  },
  {
   "cell_type": "code",
   "execution_count": 7,
   "metadata": {},
   "outputs": [
    {
     "data": {
      "text/plain": [
       "array([5, 1, 5, 1, 4, 1, 3, 4, 3, 5, 5, 2, 5, 0, 0, 2, 4, 3, 3, 4, 5, 1,\n",
       "       5, 0, 0, 3, 2, 4, 3, 3, 0, 3, 5, 2, 5, 5, 3, 5, 3, 5, 2, 4, 3, 5,\n",
       "       5, 2, 4, 3, 2, 5, 5, 5, 0, 2, 1, 2, 3, 1, 4, 0, 0, 3, 4, 2, 0, 4,\n",
       "       0, 5, 1, 1, 0, 3, 4, 0, 3, 2, 5, 0, 0, 3, 3, 1, 4, 2, 4, 4, 0, 0,\n",
       "       4, 5, 5, 4, 4, 4, 4, 3, 2, 2, 2, 4, 2, 3, 5, 3, 5, 1, 0, 2, 2, 2,\n",
       "       0, 2, 5, 2, 5, 5, 2, 5, 0, 0, 2, 4, 2, 5, 4, 4, 4, 2, 1, 1, 2, 4,\n",
       "       2, 5, 4, 2, 1, 0, 0, 2, 0, 5, 4, 1, 0, 3, 5, 1, 2, 4, 2, 0, 4, 0,\n",
       "       2, 4, 2, 2, 4, 4, 1, 5, 4, 2, 3, 1, 1, 1, 5, 4, 3, 3, 0, 0, 1, 0,\n",
       "       0, 2, 4, 5, 3, 5, 5, 3, 1, 5, 1, 3, 4, 2, 4, 0, 5, 4, 3, 5, 0, 1,\n",
       "       0, 0])"
      ]
     },
     "execution_count": 7,
     "metadata": {},
     "output_type": "execute_result"
    }
   ],
   "source": [
    "np.random.randint(0,6,200)"
   ]
  },
  {
   "cell_type": "code",
   "execution_count": 8,
   "metadata": {},
   "outputs": [
    {
     "data": {
      "text/plain": [
       "array([2, 4])"
      ]
     },
     "execution_count": 8,
     "metadata": {},
     "output_type": "execute_result"
    }
   ],
   "source": [
    "np.random.randint(1,7,2)"
   ]
  },
  {
   "cell_type": "code",
   "execution_count": null,
   "metadata": {},
   "outputs": [],
   "source": []
  }
 ],
 "metadata": {
  "kernelspec": {
   "display_name": "Python 3",
   "language": "python",
   "name": "python3"
  },
  "language_info": {
   "codemirror_mode": {
    "name": "ipython",
    "version": 3
   },
   "file_extension": ".py",
   "mimetype": "text/x-python",
   "name": "python",
   "nbconvert_exporter": "python",
   "pygments_lexer": "ipython3",
   "version": "3.7.3"
  }
 },
 "nbformat": 4,
 "nbformat_minor": 4
}
