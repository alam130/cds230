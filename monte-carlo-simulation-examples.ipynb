{
 "cells": [
  {
   "cell_type": "markdown",
   "metadata": {},
   "source": [
    "# CDS 230 - Modeling and Simulation 1 - Fall 2019\n",
    "\n",
    "# Monte Carlo Simulation Cont.\n",
    "\n",
    "**Lecturer:** Dr. Hamdi Kavak\n",
    "\n",
    "**Email:** hkavak@gmu.edu\n",
    "\n",
    "**Lecture:** 11/20/2019"
   ]
  },
  {
   "cell_type": "code",
   "execution_count": 1,
   "metadata": {},
   "outputs": [],
   "source": [
    "import numpy as np\n",
    "import matplotlib.pyplot as plt"
   ]
  },
  {
   "cell_type": "markdown",
   "metadata": {},
   "source": [
    "## Monty Hall problem"
   ]
  },
  {
   "cell_type": "code",
   "execution_count": 48,
   "metadata": {},
   "outputs": [
    {
     "name": "stdout",
     "output_type": "stream",
     "text": [
      "The door with prize: 3\n"
     ]
    }
   ],
   "source": [
    "# identify a random door with prize\n",
    "doors = [1,2,3]\n",
    "prize = np.random.choice(doors)\n",
    "print(\"The door with prize:\", prize)"
   ]
  },
  {
   "cell_type": "code",
   "execution_count": 49,
   "metadata": {},
   "outputs": [
    {
     "name": "stdout",
     "output_type": "stream",
     "text": [
      "The door we chose: 1\n"
     ]
    }
   ],
   "source": [
    "# make a choice\n",
    "choice = np.random.choice(doors)\n",
    "print(\"The door we chose:\", choice)"
   ]
  },
  {
   "cell_type": "code",
   "execution_count": 27,
   "metadata": {},
   "outputs": [
    {
     "data": {
      "text/plain": [
       "{1, 2, 3}"
      ]
     },
     "execution_count": 27,
     "metadata": {},
     "output_type": "execute_result"
    }
   ],
   "source": [
    "set(doors)"
   ]
  },
  {
   "cell_type": "code",
   "execution_count": 50,
   "metadata": {},
   "outputs": [
    {
     "name": "stdout",
     "output_type": "stream",
     "text": [
      "{2}\n"
     ]
    }
   ],
   "source": [
    "doors_with_no_prize_and_unchosen = set(doors)-set([choice,prize])\n",
    "print(doors_with_no_prize_and_unchosen)"
   ]
  },
  {
   "cell_type": "code",
   "execution_count": 51,
   "metadata": {},
   "outputs": [
    {
     "name": "stdout",
     "output_type": "stream",
     "text": [
      "2\n"
     ]
    }
   ],
   "source": [
    "the_door_opened_by_host = np.random.choice(list(doors_with_no_prize_and_unchosen))\n",
    "print(the_door_opened_by_host)"
   ]
  },
  {
   "cell_type": "code",
   "execution_count": 52,
   "metadata": {},
   "outputs": [
    {
     "name": "stdout",
     "output_type": "stream",
     "text": [
      "You lost\n"
     ]
    }
   ],
   "source": [
    "#  Strategy 1: we stick with current one\n",
    "if prize == choice:\n",
    "    print(\"You won\")\n",
    "else:\n",
    "    print(\"You lost\")"
   ]
  },
  {
   "cell_type": "code",
   "execution_count": 53,
   "metadata": {},
   "outputs": [
    {
     "name": "stdout",
     "output_type": "stream",
     "text": [
      "{3}\n",
      "You won\n"
     ]
    }
   ],
   "source": [
    "# Strategy 2: we change our mind and choose the other one\n",
    "new_choice = set(doors) - set([the_door_opened_by_host]) - set([choice])\n",
    "print(new_choice)\n",
    "new_choice_int = list(new_choice)[0]\n",
    "\n",
    "# we stick with current one\n",
    "if prize == new_choice_int:\n",
    "    print(\"You won\")\n",
    "else:\n",
    "    print(\"You lost\")"
   ]
  },
  {
   "cell_type": "markdown",
   "metadata": {},
   "source": [
    "## Compact version of Monty Hall problem"
   ]
  },
  {
   "cell_type": "code",
   "execution_count": 54,
   "metadata": {},
   "outputs": [],
   "source": [
    "def monty_hall(strategy):\n",
    "    # identify a random door with prize\n",
    "    doors = [1,2,3]\n",
    "    prize = np.random.choice(doors)\n",
    "    \n",
    "    # make a choice\n",
    "    choice = np.random.choice(doors)\n",
    "    \n",
    "    doors_with_no_prize_and_unchosen = set(doors)-set([choice,prize])\n",
    "    \n",
    "    the_door_opened_by_host = np.random.choice(list(doors_with_no_prize_and_unchosen))\n",
    "\n",
    "    # if the function returns True, that means, you win\n",
    "    #                       if False, you lose\n",
    "    if strategy == 1: # stick with current choice\n",
    "        return prize == choice\n",
    "    \n",
    "    elif strategy == 2: # change the choice\n",
    "        new_choice = set(doors) - set([the_door_opened_by_host]) - set([choice])\n",
    "        new_choice_int = list(new_choice)[0]\n",
    "        \n",
    "        return prize == new_choice_int\n"
   ]
  },
  {
   "cell_type": "markdown",
   "metadata": {},
   "source": [
    "### Test two strategies"
   ]
  },
  {
   "cell_type": "code",
   "execution_count": 55,
   "metadata": {},
   "outputs": [
    {
     "data": {
      "text/plain": [
       "False"
      ]
     },
     "execution_count": 55,
     "metadata": {},
     "output_type": "execute_result"
    }
   ],
   "source": [
    "monty_hall(1)"
   ]
  },
  {
   "cell_type": "code",
   "execution_count": 58,
   "metadata": {},
   "outputs": [
    {
     "name": "stdout",
     "output_type": "stream",
     "text": [
      "Strategy 1\n",
      "32.7\n"
     ]
    }
   ],
   "source": [
    "N = 1000\n",
    "count_wins = 0\n",
    "\n",
    "for i in range(N):\n",
    "    result = monty_hall(1)\n",
    "    \n",
    "    if result == True:\n",
    "        count_wins = count_wins + 1\n",
    "print(\"Strategy 1\")\n",
    "print(100*count_wins/N)"
   ]
  },
  {
   "cell_type": "code",
   "execution_count": 59,
   "metadata": {},
   "outputs": [
    {
     "name": "stdout",
     "output_type": "stream",
     "text": [
      "Strategy 2\n",
      "66.9\n"
     ]
    }
   ],
   "source": [
    "N = 1000\n",
    "count_wins = 0\n",
    "\n",
    "for i in range(N):\n",
    "    result = monty_hall(2)\n",
    "    \n",
    "    if result == True:\n",
    "        count_wins = count_wins + 1\n",
    "print(\"Strategy 2\")\n",
    "print(100*count_wins/N)"
   ]
  },
  {
   "cell_type": "code",
   "execution_count": null,
   "metadata": {},
   "outputs": [],
   "source": []
  }
 ],
 "metadata": {
  "kernelspec": {
   "display_name": "Python 3",
   "language": "python",
   "name": "python3"
  },
  "language_info": {
   "codemirror_mode": {
    "name": "ipython",
    "version": 3
   },
   "file_extension": ".py",
   "mimetype": "text/x-python",
   "name": "python",
   "nbconvert_exporter": "python",
   "pygments_lexer": "ipython3",
   "version": "3.6.9"
  }
 },
 "nbformat": 4,
 "nbformat_minor": 4
}
